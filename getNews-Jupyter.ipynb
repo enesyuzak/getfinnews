{
 "cells": [
  {
   "cell_type": "code",
   "execution_count": 69,
   "metadata": {},
   "outputs": [],
   "source": [
    "#import selenium libraries\n",
    "from selenium import webdriver\n",
    "from selenium.webdriver.common.keys import Keys\n",
    "from selenium.webdriver.chrome.options import Options\n",
    "from selenium.webdriver.common.action_chains import ActionChains\n",
    "from selenium.common.exceptions import ElementClickInterceptedException\n",
    "from selenium.webdriver.support.ui import WebDriverWait\n",
    "from selenium.webdriver.support import expected_conditions\n",
    "from selenium.webdriver.common.by import By\n",
    "\n",
    "#import web scrapy librarires\n",
    "from urllib.request import urlopen\n",
    "from bs4 import BeautifulSoup\n",
    "from lxml import html\n",
    "import requests\n",
    "\n",
    "#import data libraries\n",
    "import pandas as pd\n",
    "import numpy as np\n",
    "\n",
    "#import system libraries\n",
    "import time\n",
    "import datetime\n",
    "import sys\n",
    "import random\n",
    "import io\n",
    "import math\n",
    "from task import logs as l\n",
    "from task import selenium as sel\n"
   ]
  },
  {
   "cell_type": "code",
   "execution_count": 70,
   "metadata": {},
   "outputs": [],
   "source": [
    "#headers\n",
    "headers = {'User-Agent': 'Mozilla/5.0 (Windows NT 10.0; Win64; x64) AppleWebKit/537.36 (KHTML, like Gecko) Chrome/85.0.4183.121 Safari/537.36'}"
   ]
  },
  {
   "cell_type": "code",
   "execution_count": 71,
   "metadata": {},
   "outputs": [],
   "source": [
    "start=\"\\n\"+\" ************************************* İşlemler başladı ************************************************\"\n",
    "l.log(start)\n",
    "#consts\n",
    "page=3\n",
    "delay=1"
   ]
  },
  {
   "cell_type": "code",
   "execution_count": 72,
   "metadata": {},
   "outputs": [
    {
     "name": "stderr",
     "output_type": "stream",
     "text": [
      "C:\\Users\\enesy\\AppData\\Roaming\\Python\\Python37\\site-packages\\ipykernel_launcher.py:4: DeprecationWarning: use options instead of chrome_options\n",
      "  after removing the cwd from sys.path.\n"
     ]
    }
   ],
   "source": [
    "#chrome driver options\n",
    "chrome_options=Options()\n",
    "chrome_options.add_argument('--no-sandbox')\n",
    "driver = webdriver.Chrome(r'C:\\Users\\enesy\\OneDrive\\Okul\\Tez\\Codes\\chromedriver', chrome_options=chrome_options)\n",
    "driver.implicitly_wait(5)\n",
    "#driver.maximize_window()\n",
    "try:\n",
    "    driver.get('https://www.nasdaq.com/market-activity/stocks/tsla/news-headlines')\n",
    "    time.sleep(5)\n",
    "except:\n",
    "    error=\"\\n\"+str(datetime.datetime.now())+\" tarihinde sayfa açma esnasında hata alındı: \"+ str(sys.exc_info()[0])\n",
    "    print(\"Unexpected error:\", sys.exc_info()[0])\n",
    "    l.log(error)\n",
    "    driver.close()\n",
    "    pass"
   ]
  },
  {
   "cell_type": "code",
   "execution_count": 73,
   "metadata": {},
   "outputs": [],
   "source": [
    "#if there is a popup close it\n",
    "try:\n",
    "    popup=driver.find_element_by_xpath(\"//button[@id='_evh-ric-c']\")\n",
    "    #.find_element_by_id(\"gb_23\")\n",
    "    if popup is not None:\n",
    "        popup.click()\n",
    "except:\n",
    "    error=\"\\n\"+str(datetime.datetime.now())+\" tarihinde Popup kapatma esnasında hata alındı: \"+ str(sys.exc_info()[0])\n",
    "    print(\"Unexpected error:\", sys.exc_info()[0])\n",
    "    l.log(error)\n",
    "    pass"
   ]
  },
  {
   "cell_type": "code",
   "execution_count": 74,
   "metadata": {},
   "outputs": [],
   "source": [
    "#Get links\n",
    "newsLinks=[]\n",
    "recentList = driver.find_elements_by_xpath(\"//div[@class='symbol-back-to-overview']\") \n",
    "for listt in recentList :\n",
    "    driver.execute_script(\"arguments[0].scrollIntoView();\", listt )\n",
    "\n",
    "startDate=datetime.datetime.now()\n",
    "for i in range(1,page+1):\n",
    "    if i%10==0:\n",
    "        print(\"Sayfa sayısı: \",i)\n",
    "    lnk=[]\n",
    "    lnk=[links.get_attribute(\"href\") for links in driver.find_elements_by_xpath('//a[@class=\"quote-news-headlines__link\"]')]\n",
    "    newsLinks.append(lnk)\n",
    "    time.sleep(delay)\n",
    "    \n",
    "    try:\n",
    "        element=WebDriverWait(driver,delay).until(expected_conditions.presence_of_element_located((By.CLASS_NAME, \"pagination__next\")))\n",
    "        sel.act(driver)\n",
    "    except:\n",
    "        print(\"Unexpected error:\", sys.exc_info()[0])\n",
    "        error=\"\\n\"+str(datetime.datetime.now())+\" tarihinde sayfa geçişleri esnasında --> Unexpected error: \"+str(sys.exc_info()[0])+\"  hatası alındı.\"\n",
    "        l.log(error)\n",
    "        pass\n",
    "driver.close()"
   ]
  },
  {
   "cell_type": "code",
   "execution_count": 75,
   "metadata": {},
   "outputs": [],
   "source": [
    "#calculate running time\n",
    "endDate=datetime.datetime.now()\n",
    "minute=divmod((endDate-startDate).total_seconds(),60)[0]\n",
    "minute=math.floor(minute)\n",
    "hour=divmod((endDate-startDate).total_seconds(),3600)[0]\n",
    "hour=math.floor(hour)\n",
    "second=divmod((endDate-startDate).total_seconds(),60)[1]\n",
    "elapsedTime=\"\\nLİnklerin yüklenme süresi: \"+str(hour)+\" saat \"+str(minute)+\" dakika \"+str(second)+\"saniye sürmüştür\"\n",
    "processDateTime=\"\\n\"+\"İşlem \"+str(startDate)+\" tarihinde başladı, \"+str(endDate)+\" tarihinde bitti.\"\n",
    "#write log\n",
    "l.log(elapsedTime)\n",
    "l.log(processDateTime)"
   ]
  },
  {
   "cell_type": "code",
   "execution_count": 76,
   "metadata": {},
   "outputs": [
    {
     "name": "stdout",
     "output_type": "stream",
     "text": [
      "https://www.nasdaq.com/articles/buzz-u.s.-stocks-on-the-move-johnson-johnson-tesla-walt-disney-blackrock-2020-10-13\n",
      "https://www.nasdaq.com/articles/the-top-2-contrarian-stocks-to-buy-right-now-2020-10-13\n",
      "https://www.nasdaq.com/articles/forget-tesla-intuitive-surgical-is-a-better-growth-stock-2020-10-13\n",
      "https://www.nasdaq.com/articles/tesla-cuts-prices-of-model-s-variant-in-united-states-china-2020-10-13\n",
      "https://www.nasdaq.com/articles/audi-to-launch-new-electric-vehicle-venture-with-chinas-faw-2020-10-13\n",
      "https://www.nasdaq.com/articles/how-tesla-can-get-to-a-%241-trillion-valuation-2020-10-13\n",
      "https://www.nasdaq.com/articles/china-auto-sales-jump-13-in-golden-september-as-shoppers-return-to-showrooms-2020-10-13\n",
      "https://www.nasdaq.com/articles/why-this-stock-market-melt-up-is-so-hard-to-handle-2020-10-12\n",
      "https://www.nasdaq.com/articles/heres-why-wimi-hologram-cloud-stock-came-roaring-back-to-life-on-monday-2020-10-12\n",
      "https://www.nasdaq.com/articles/stock-alert%3A-piedmont-lithium-shares-down-8-2020-10-12\n",
      "https://www.nasdaq.com/articles/3-stocks-robinhood-investors-arent-in-love-with-anymore-2020-10-12\n",
      "https://www.nasdaq.com/articles/tesla-battery-supplier-lg-chem-forecasts-record-q3-profit-2020-10-11\n",
      "https://www.nasdaq.com/articles/these-3-stocks-would-be-huge-winners-from-a-payroll-tax-cut-2020-10-10\n",
      "https://www.nasdaq.com/articles/ignore-uber-these-3-stocks-are-better-buys-2020-10-10\n",
      "https://www.nasdaq.com/articles/7-growth-hacks-for-a-bulletproof-electric-car-portfolio-2020-10-09\n",
      "https://www.nasdaq.com/articles/nissan-will-provide-automated-driving-technology-in-all-future-models-2020-10-09\n",
      "https://www.nasdaq.com/articles/why-niu-technologies-shares-were-gaining-today-2020-10-09\n",
      "https://www.nasdaq.com/articles/sailing-sailgp-looks-beyond-wind-power-to-hit-climate-positive-goal-2020-10-09\n",
      "https://www.nasdaq.com/articles/im-sure-warren-buffett-would-love-to-see-apple-trading-below-%24100-2020-10-09\n",
      "https://www.nasdaq.com/articles/1-electric-van-stock-with-a-bus-sized-opportunity-2020-10-09\n",
      "https://www.nasdaq.com/articles/this-analyst-thinks-tesla-stock-is-headed-to-%24578-2020-10-09\n",
      "https://www.nasdaq.com/articles/tesla-can-post-apple-like-margins.-heres-how.-2020-10-09\n",
      "https://www.nasdaq.com/articles/teslas-expenses%3A-operating-cost-controls-improving-gross-margins-will-drive-teslas-first\n",
      "https://www.nasdaq.com/articles/tesla%3A-use-any-stock-weakness-to-snap-up-shares-says-analyst-2020-10-08\n"
     ]
    }
   ],
   "source": [
    "news=np.array(newsLinks)\n",
    "xNews=np.array(news).flatten()\n",
    "for i in xNews:\n",
    "    print(i)\n",
    "    l.WriteToFile(\"links.txt\",str(i))"
   ]
  },
  {
   "cell_type": "code",
   "execution_count": 77,
   "metadata": {},
   "outputs": [],
   "source": [
    "path=r\"C:\\Users\\enesy\\OneDrive\\Okul\\Tez\\Codes\\tez\\getfinnews\\links.txt\"\n",
    "a=l.ReadFromFile(path)"
   ]
  },
  {
   "cell_type": "code",
   "execution_count": 78,
   "metadata": {},
   "outputs": [
    {
     "data": {
      "text/plain": [
       "'https://www.nasdaq.com/articles/buzz-u.s.-stocks-on-the-move-johnson-johnson-tesla-walt-disney-blackrock-2020-10-13\\n\\nhttps://www.nasdaq.com/articles/the-top-2-contrarian-stocks-to-buy-right-now-2020-10-13\\n\\nhttps://www.nasdaq.com/articles/forget-tesla-intuitive-surgical-is-a-better-growth-stock-2020-10-13\\n\\nhttps://www.nasdaq.com/articles/tesla-cuts-prices-of-model-s-variant-in-united-states-china-2020-10-13\\n\\nhttps://www.nasdaq.com/articles/audi-to-launch-new-electric-vehicle-venture-with-chinas-faw-2020-10-13\\n\\nhttps://www.nasdaq.com/articles/how-tesla-can-get-to-a-%241-trillion-valuation-2020-10-13\\n\\nhttps://www.nasdaq.com/articles/china-auto-sales-jump-13-in-golden-september-as-shoppers-return-to-showrooms-2020-10-13\\n\\nhttps://www.nasdaq.com/articles/why-this-stock-market-melt-up-is-so-hard-to-handle-2020-10-12\\n\\nhttps://www.nasdaq.com/articles/heres-why-wimi-hologram-cloud-stock-came-roaring-back-to-life-on-monday-2020-10-12\\n\\nhttps://www.nasdaq.com/articles/stock-alert%3A-piedmont-lithium-shares-down-8-2020-10-12\\n\\nhttps://www.nasdaq.com/articles/3-stocks-robinhood-investors-arent-in-love-with-anymore-2020-10-12\\n\\nhttps://www.nasdaq.com/articles/tesla-battery-supplier-lg-chem-forecasts-record-q3-profit-2020-10-11\\n\\nhttps://www.nasdaq.com/articles/these-3-stocks-would-be-huge-winners-from-a-payroll-tax-cut-2020-10-10\\n\\nhttps://www.nasdaq.com/articles/ignore-uber-these-3-stocks-are-better-buys-2020-10-10\\n\\nhttps://www.nasdaq.com/articles/7-growth-hacks-for-a-bulletproof-electric-car-portfolio-2020-10-09\\n\\nhttps://www.nasdaq.com/articles/nissan-will-provide-automated-driving-technology-in-all-future-models-2020-10-09\\n\\nhttps://www.nasdaq.com/articles/why-niu-technologies-shares-were-gaining-today-2020-10-09\\n\\nhttps://www.nasdaq.com/articles/sailing-sailgp-looks-beyond-wind-power-to-hit-climate-positive-goal-2020-10-09\\n\\nhttps://www.nasdaq.com/articles/im-sure-warren-buffett-would-love-to-see-apple-trading-below-%24100-2020-10-09\\n\\nhttps://www.nasdaq.com/articles/1-electric-van-stock-with-a-bus-sized-opportunity-2020-10-09\\n\\nhttps://www.nasdaq.com/articles/this-analyst-thinks-tesla-stock-is-headed-to-%24578-2020-10-09\\n\\nhttps://www.nasdaq.com/articles/tesla-can-post-apple-like-margins.-heres-how.-2020-10-09\\n\\nhttps://www.nasdaq.com/articles/teslas-expenses%3A-operating-cost-controls-improving-gross-margins-will-drive-teslas-first\\n\\nhttps://www.nasdaq.com/articles/tesla%3A-use-any-stock-weakness-to-snap-up-shares-says-analyst-2020-10-08\\n\\nhttps://www.nasdaq.com/articles/buzz-u.s.-stocks-on-the-move-johnson-johnson-tesla-walt-disney-blackrock-2020-10-13\\n\\nhttps://www.nasdaq.com/articles/the-top-2-contrarian-stocks-to-buy-right-now-2020-10-13\\n\\nhttps://www.nasdaq.com/articles/forget-tesla-intuitive-surgical-is-a-better-growth-stock-2020-10-13\\n\\nhttps://www.nasdaq.com/articles/tesla-cuts-prices-of-model-s-variant-in-united-states-china-2020-10-13\\n\\nhttps://www.nasdaq.com/articles/audi-to-launch-new-electric-vehicle-venture-with-chinas-faw-2020-10-13\\n\\nhttps://www.nasdaq.com/articles/how-tesla-can-get-to-a-%241-trillion-valuation-2020-10-13\\n\\nhttps://www.nasdaq.com/articles/china-auto-sales-jump-13-in-golden-september-as-shoppers-return-to-showrooms-2020-10-13\\n\\nhttps://www.nasdaq.com/articles/why-this-stock-market-melt-up-is-so-hard-to-handle-2020-10-12\\n\\nhttps://www.nasdaq.com/articles/heres-why-wimi-hologram-cloud-stock-came-roaring-back-to-life-on-monday-2020-10-12\\n\\nhttps://www.nasdaq.com/articles/stock-alert%3A-piedmont-lithium-shares-down-8-2020-10-12\\n\\nhttps://www.nasdaq.com/articles/3-stocks-robinhood-investors-arent-in-love-with-anymore-2020-10-12\\n\\nhttps://www.nasdaq.com/articles/tesla-battery-supplier-lg-chem-forecasts-record-q3-profit-2020-10-11\\n\\nhttps://www.nasdaq.com/articles/these-3-stocks-would-be-huge-winners-from-a-payroll-tax-cut-2020-10-10\\n\\nhttps://www.nasdaq.com/articles/ignore-uber-these-3-stocks-are-better-buys-2020-10-10\\n\\nhttps://www.nasdaq.com/articles/7-growth-hacks-for-a-bulletproof-electric-car-portfolio-2020-10-09\\n\\nhttps://www.nasdaq.com/articles/nissan-will-provide-automated-driving-technology-in-all-future-models-2020-10-09\\n\\nhttps://www.nasdaq.com/articles/why-niu-technologies-shares-were-gaining-today-2020-10-09\\n\\nhttps://www.nasdaq.com/articles/sailing-sailgp-looks-beyond-wind-power-to-hit-climate-positive-goal-2020-10-09\\n\\nhttps://www.nasdaq.com/articles/im-sure-warren-buffett-would-love-to-see-apple-trading-below-%24100-2020-10-09\\n\\nhttps://www.nasdaq.com/articles/1-electric-van-stock-with-a-bus-sized-opportunity-2020-10-09\\n\\nhttps://www.nasdaq.com/articles/this-analyst-thinks-tesla-stock-is-headed-to-%24578-2020-10-09\\n\\nhttps://www.nasdaq.com/articles/tesla-can-post-apple-like-margins.-heres-how.-2020-10-09\\n\\nhttps://www.nasdaq.com/articles/teslas-expenses%3A-operating-cost-controls-improving-gross-margins-will-drive-teslas-first\\n\\nhttps://www.nasdaq.com/articles/tesla%3A-use-any-stock-weakness-to-snap-up-shares-says-analyst-2020-10-08\\n\\nhttps://www.nasdaq.com/articles/buzz-u.s.-stocks-on-the-move-johnson-johnson-tesla-walt-disney-blackrock-2020-10-13\\n\\nhttps://www.nasdaq.com/articles/the-top-2-contrarian-stocks-to-buy-right-now-2020-10-13\\n\\nhttps://www.nasdaq.com/articles/forget-tesla-intuitive-surgical-is-a-better-growth-stock-2020-10-13\\n\\nhttps://www.nasdaq.com/articles/tesla-cuts-prices-of-model-s-variant-in-united-states-china-2020-10-13\\n\\nhttps://www.nasdaq.com/articles/audi-to-launch-new-electric-vehicle-venture-with-chinas-faw-2020-10-13\\n\\nhttps://www.nasdaq.com/articles/how-tesla-can-get-to-a-%241-trillion-valuation-2020-10-13\\n\\nhttps://www.nasdaq.com/articles/china-auto-sales-jump-13-in-golden-september-as-shoppers-return-to-showrooms-2020-10-13\\n\\nhttps://www.nasdaq.com/articles/why-this-stock-market-melt-up-is-so-hard-to-handle-2020-10-12\\n\\nhttps://www.nasdaq.com/articles/heres-why-wimi-hologram-cloud-stock-came-roaring-back-to-life-on-monday-2020-10-12\\n\\nhttps://www.nasdaq.com/articles/stock-alert%3A-piedmont-lithium-shares-down-8-2020-10-12\\n\\nhttps://www.nasdaq.com/articles/3-stocks-robinhood-investors-arent-in-love-with-anymore-2020-10-12\\n\\nhttps://www.nasdaq.com/articles/tesla-battery-supplier-lg-chem-forecasts-record-q3-profit-2020-10-11\\n\\nhttps://www.nasdaq.com/articles/these-3-stocks-would-be-huge-winners-from-a-payroll-tax-cut-2020-10-10\\n\\nhttps://www.nasdaq.com/articles/ignore-uber-these-3-stocks-are-better-buys-2020-10-10\\n\\nhttps://www.nasdaq.com/articles/7-growth-hacks-for-a-bulletproof-electric-car-portfolio-2020-10-09\\n\\nhttps://www.nasdaq.com/articles/nissan-will-provide-automated-driving-technology-in-all-future-models-2020-10-09\\n\\nhttps://www.nasdaq.com/articles/why-niu-technologies-shares-were-gaining-today-2020-10-09\\n\\nhttps://www.nasdaq.com/articles/sailing-sailgp-looks-beyond-wind-power-to-hit-climate-positive-goal-2020-10-09\\n\\nhttps://www.nasdaq.com/articles/im-sure-warren-buffett-would-love-to-see-apple-trading-below-%24100-2020-10-09\\n\\nhttps://www.nasdaq.com/articles/1-electric-van-stock-with-a-bus-sized-opportunity-2020-10-09\\n\\nhttps://www.nasdaq.com/articles/this-analyst-thinks-tesla-stock-is-headed-to-%24578-2020-10-09\\n\\nhttps://www.nasdaq.com/articles/tesla-can-post-apple-like-margins.-heres-how.-2020-10-09\\n\\nhttps://www.nasdaq.com/articles/teslas-expenses%3A-operating-cost-controls-improving-gross-margins-will-drive-teslas-first\\n\\nhttps://www.nasdaq.com/articles/tesla%3A-use-any-stock-weakness-to-snap-up-shares-says-analyst-2020-10-08\\n\\nhttps://www.nasdaq.com/articles/buzz-u.s.-stocks-on-the-move-johnson-johnson-tesla-walt-disney-blackrock-2020-10-13\\n\\nhttps://www.nasdaq.com/articles/the-top-2-contrarian-stocks-to-buy-right-now-2020-10-13\\n\\nhttps://www.nasdaq.com/articles/forget-tesla-intuitive-surgical-is-a-better-growth-stock-2020-10-13\\n\\nhttps://www.nasdaq.com/articles/tesla-cuts-prices-of-model-s-variant-in-united-states-china-2020-10-13\\n\\nhttps://www.nasdaq.com/articles/audi-to-launch-new-electric-vehicle-venture-with-chinas-faw-2020-10-13\\n\\nhttps://www.nasdaq.com/articles/how-tesla-can-get-to-a-%241-trillion-valuation-2020-10-13\\n\\nhttps://www.nasdaq.com/articles/china-auto-sales-jump-13-in-golden-september-as-shoppers-return-to-showrooms-2020-10-13\\n\\nhttps://www.nasdaq.com/articles/why-this-stock-market-melt-up-is-so-hard-to-handle-2020-10-12\\n\\nhttps://www.nasdaq.com/articles/heres-why-wimi-hologram-cloud-stock-came-roaring-back-to-life-on-monday-2020-10-12\\n\\nhttps://www.nasdaq.com/articles/stock-alert%3A-piedmont-lithium-shares-down-8-2020-10-12\\n\\nhttps://www.nasdaq.com/articles/3-stocks-robinhood-investors-arent-in-love-with-anymore-2020-10-12\\n\\nhttps://www.nasdaq.com/articles/tesla-battery-supplier-lg-chem-forecasts-record-q3-profit-2020-10-11\\n\\nhttps://www.nasdaq.com/articles/these-3-stocks-would-be-huge-winners-from-a-payroll-tax-cut-2020-10-10\\n\\nhttps://www.nasdaq.com/articles/ignore-uber-these-3-stocks-are-better-buys-2020-10-10\\n\\nhttps://www.nasdaq.com/articles/7-growth-hacks-for-a-bulletproof-electric-car-portfolio-2020-10-09\\n\\nhttps://www.nasdaq.com/articles/nissan-will-provide-automated-driving-technology-in-all-future-models-2020-10-09\\n\\nhttps://www.nasdaq.com/articles/why-niu-technologies-shares-were-gaining-today-2020-10-09\\n\\nhttps://www.nasdaq.com/articles/sailing-sailgp-looks-beyond-wind-power-to-hit-climate-positive-goal-2020-10-09\\n\\nhttps://www.nasdaq.com/articles/im-sure-warren-buffett-would-love-to-see-apple-trading-below-%24100-2020-10-09\\n\\nhttps://www.nasdaq.com/articles/1-electric-van-stock-with-a-bus-sized-opportunity-2020-10-09\\n\\nhttps://www.nasdaq.com/articles/this-analyst-thinks-tesla-stock-is-headed-to-%24578-2020-10-09\\n\\nhttps://www.nasdaq.com/articles/tesla-can-post-apple-like-margins.-heres-how.-2020-10-09\\n\\nhttps://www.nasdaq.com/articles/teslas-expenses%3A-operating-cost-controls-improving-gross-margins-will-drive-teslas-first\\n\\nhttps://www.nasdaq.com/articles/tesla%3A-use-any-stock-weakness-to-snap-up-shares-says-analyst-2020-10-08\\n\\n'"
      ]
     },
     "execution_count": 78,
     "metadata": {},
     "output_type": "execute_result"
    }
   ],
   "source": [
    "a"
   ]
  },
  {
   "cell_type": "code",
   "execution_count": 79,
   "metadata": {},
   "outputs": [],
   "source": [
    "finish=\"\\n\"+\" *********************************** İşlemler tamamlandı ***********************************************\"\n",
    "l.log(finish)"
   ]
  },
  {
   "cell_type": "code",
   "execution_count": null,
   "metadata": {},
   "outputs": [],
   "source": []
  }
 ],
 "metadata": {
  "kernelspec": {
   "display_name": "Python 3",
   "language": "python",
   "name": "python3"
  },
  "language_info": {
   "codemirror_mode": {
    "name": "ipython",
    "version": 3
   },
   "file_extension": ".py",
   "mimetype": "text/x-python",
   "name": "python",
   "nbconvert_exporter": "python",
   "pygments_lexer": "ipython3",
   "version": "3.7.4"
  }
 },
 "nbformat": 4,
 "nbformat_minor": 4
}
