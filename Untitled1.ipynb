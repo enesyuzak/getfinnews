{
 "cells": [
  {
   "cell_type": "code",
   "execution_count": 29,
   "metadata": {},
   "outputs": [],
   "source": [
    "from nltk import tokenize\n",
    "import pandas as pd\n",
    "from Tools import *\n",
    "import re"
   ]
  },
  {
   "cell_type": "code",
   "execution_count": 30,
   "metadata": {},
   "outputs": [],
   "source": [
    "file1=r'C:\\Users\\enesy\\OneDrive\\Okul\\Tez\\Codes\\tez\\sample.txt'\n",
    "Lines=File.ReadFromFile(file1)"
   ]
  },
  {
   "cell_type": "code",
   "execution_count": 31,
   "metadata": {},
   "outputs": [
    {
     "data": {
      "text/plain": [
       "[\"Looking at options trading activity among components of the Russell 3000 index, there is noteworthy activity today in Tesla Inc (Symbol: TSLA), where a total volume of 60,790 contracts has been traded thus far today, a contract volume which is representative of approximately 6.1 million underlying shares (given that every 1 contract represents 100 underlying shares). That number works out to 101.4% of TSLA's average daily trading volume over the past month, of 6.0 million shares. Particularly high volume was seen for the $260 strike call option expiring March 17, 2017 , with 6,285 contracts trading so far today, representing approximately 628,500 underlying shares of TSLA. Below is a chart showing TSLA's trailing twelve month trading history, with the $260 strike highlighted in orange:Rosetta Stone, Inc. (Symbol: RST) options are showing a volume of 542 contracts thus far today. That number of contracts represents approximately 54,200 underlying shares, working out to a sizeable 90.8% of RST's average daily trading volume over the past month, of 59,670 shares. Especially high volume was seen for the $10 strike call option expiring June 16, 2017 , with 251 contracts trading so far today, representing approximately 25,100 underlying shares of RST. Below is a chart showing RST's trailing twelve month trading history, with the $10 strike highlighted in orange:And Bed, Bath & Beyond, Inc. (Symbol: BBBY) options are showing a volume of 13,670 contracts thus far today. That number of contracts represents approximately 1.4 million underlying shares, working out to a sizeable 74.9% of BBBY's average daily trading volume over the past month, of 1.8 million shares. Especially high volume was seen for the $35 strike put option expiring January 19, 2018 , with 13,089 contracts trading so far today, representing approximately 1.3 million underlying shares of BBBY. Below is a chart showing BBBY's trailing twelve month trading history, with the $35 strike highlighted in orange:For the various different available expirations for TSLA options , RST options , or BBBY options , visit StockOptionsChannel.com.\"]"
      ]
     },
     "execution_count": 31,
     "metadata": {},
     "output_type": "execute_result"
    }
   ],
   "source": [
    "Lines"
   ]
  },
  {
   "cell_type": "code",
   "execution_count": 32,
   "metadata": {},
   "outputs": [],
   "source": [
    "Lines=Lines[0].lower()"
   ]
  },
  {
   "cell_type": "code",
   "execution_count": 33,
   "metadata": {},
   "outputs": [
    {
     "data": {
      "text/plain": [
       "\"looking at options trading activity among components of the russell 3000 index, there is noteworthy activity today in tesla inc (symbol: tsla), where a total volume of 60,790 contracts has been traded thus far today, a contract volume which is representative of approximately 6.1 million underlying shares (given that every 1 contract represents 100 underlying shares). that number works out to 101.4% of tsla's average daily trading volume over the past month, of 6.0 million shares. particularly high volume was seen for the $260 strike call option expiring march 17, 2017 , with 6,285 contracts trading so far today, representing approximately 628,500 underlying shares of tsla. below is a chart showing tsla's trailing twelve month trading history, with the $260 strike highlighted in orange:rosetta stone, inc. (symbol: rst) options are showing a volume of 542 contracts thus far today. that number of contracts represents approximately 54,200 underlying shares, working out to a sizeable 90.8% of rst's average daily trading volume over the past month, of 59,670 shares. especially high volume was seen for the $10 strike call option expiring june 16, 2017 , with 251 contracts trading so far today, representing approximately 25,100 underlying shares of rst. below is a chart showing rst's trailing twelve month trading history, with the $10 strike highlighted in orange:and bed, bath & beyond, inc. (symbol: bbby) options are showing a volume of 13,670 contracts thus far today. that number of contracts represents approximately 1.4 million underlying shares, working out to a sizeable 74.9% of bbby's average daily trading volume over the past month, of 1.8 million shares. especially high volume was seen for the $35 strike put option expiring january 19, 2018 , with 13,089 contracts trading so far today, representing approximately 1.3 million underlying shares of bbby. below is a chart showing bbby's trailing twelve month trading history, with the $35 strike highlighted in orange:for the various different available expirations for tsla options , rst options , or bbby options , visit stockoptionschannel.com.\""
      ]
     },
     "execution_count": 33,
     "metadata": {},
     "output_type": "execute_result"
    }
   ],
   "source": [
    "Lines"
   ]
  },
  {
   "cell_type": "code",
   "execution_count": 34,
   "metadata": {},
   "outputs": [
    {
     "data": {
      "text/plain": [
       "['looking at options trading activity among components of the russell 3000 index, there is noteworthy activity today in tesla inc (symbol: tsla), where a total volume of 60,790 contracts has been traded thus far today, a contract volume which is representative of approximately 6.1 million underlying shares (given that every 1 contract represents 100 underlying shares).',\n",
       " \"that number works out to 101.4% of tsla's average daily trading volume over the past month, of 6.0 million shares.\",\n",
       " 'particularly high volume was seen for the $260 strike call option expiring march 17, 2017 , with 6,285 contracts trading so far today, representing approximately 628,500 underlying shares of tsla.',\n",
       " \"below is a chart showing tsla's trailing twelve month trading history, with the $260 strike highlighted in orange:rosetta stone, inc. (symbol: rst) options are showing a volume of 542 contracts thus far today.\",\n",
       " \"that number of contracts represents approximately 54,200 underlying shares, working out to a sizeable 90.8% of rst's average daily trading volume over the past month, of 59,670 shares.\",\n",
       " 'especially high volume was seen for the $10 strike call option expiring june 16, 2017 , with 251 contracts trading so far today, representing approximately 25,100 underlying shares of rst.',\n",
       " \"below is a chart showing rst's trailing twelve month trading history, with the $10 strike highlighted in orange:and bed, bath & beyond, inc. (symbol: bbby) options are showing a volume of 13,670 contracts thus far today.\",\n",
       " \"that number of contracts represents approximately 1.4 million underlying shares, working out to a sizeable 74.9% of bbby's average daily trading volume over the past month, of 1.8 million shares.\",\n",
       " 'especially high volume was seen for the $35 strike put option expiring january 19, 2018 , with 13,089 contracts trading so far today, representing approximately 1.3 million underlying shares of bbby.',\n",
       " \"below is a chart showing bbby's trailing twelve month trading history, with the $35 strike highlighted in orange:for the various different available expirations for tsla options , rst options , or bbby options , visit stockoptionschannel.com.\"]"
      ]
     },
     "execution_count": 34,
     "metadata": {},
     "output_type": "execute_result"
    }
   ],
   "source": [
    "listOfLines=tokenize.sent_tokenize(Lines)\n",
    "listOfLines"
   ]
  },
  {
   "cell_type": "code",
   "execution_count": 35,
   "metadata": {},
   "outputs": [
    {
     "data": {
      "text/plain": [
       "['looking at options trading activity among components of the russell 3000 index there is noteworthy activity today in tesla inc symbol tsla where a total volume of 60790 contracts has been traded thus far today a contract volume which is representative of approximately 61 million underlying shares given that every 1 contract represents 100 underlying shares',\n",
       " 'that number works out to 1014 of tslas average daily trading volume over the past month of 60 million shares',\n",
       " 'particularly high volume was seen for the 260 strike call option expiring march 17 2017  with 6285 contracts trading so far today representing approximately 628500 underlying shares of tsla',\n",
       " 'below is a chart showing tslas trailing twelve month trading history with the 260 strike highlighted in orangerosetta stone inc symbol rst options are showing a volume of 542 contracts thus far today',\n",
       " 'that number of contracts represents approximately 54200 underlying shares working out to a sizeable 908 of rsts average daily trading volume over the past month of 59670 shares',\n",
       " 'especially high volume was seen for the 10 strike call option expiring june 16 2017  with 251 contracts trading so far today representing approximately 25100 underlying shares of rst',\n",
       " 'below is a chart showing rsts trailing twelve month trading history with the 10 strike highlighted in orangeand bed bath  beyond inc symbol bbby options are showing a volume of 13670 contracts thus far today',\n",
       " 'that number of contracts represents approximately 14 million underlying shares working out to a sizeable 749 of bbbys average daily trading volume over the past month of 18 million shares',\n",
       " 'especially high volume was seen for the 35 strike put option expiring january 19 2018  with 13089 contracts trading so far today representing approximately 13 million underlying shares of bbby',\n",
       " 'below is a chart showing bbbys trailing twelve month trading history with the 35 strike highlighted in orangefor the various different available expirations for tsla options  rst options  or bbby options  visit stockoptionschannelcom']"
      ]
     },
     "execution_count": 35,
     "metadata": {},
     "output_type": "execute_result"
    }
   ],
   "source": [
    "noPunkt=[re.sub(r'[^\\w\\s]','',x) for x in listOfLines]\n",
    "noPunkt"
   ]
  },
  {
   "cell_type": "code",
   "execution_count": 36,
   "metadata": {},
   "outputs": [
    {
     "data": {
      "text/plain": [
       "'looking at options trading activity among components of the russell 3000 index there is noteworthy activity today in tesla inc symbol tsla where a total volume of 60790 contracts has been traded thus far today a contract volume which is representative of approximately 61 million underlying shares given that every 1 contract represents 100 underlying shares that number works out to 1014 of tslas average daily trading volume over the past month of 60 million shares particularly high volume was seen for the 260 strike call option expiring march 17 2017  with 6285 contracts trading so far today representing approximately 628500 underlying shares of tsla below is a chart showing tslas trailing twelve month trading history with the 260 strike highlighted in orangerosetta stone inc symbol rst options are showing a volume of 542 contracts thus far today that number of contracts represents approximately 54200 underlying shares working out to a sizeable 908 of rsts average daily trading volume over the past month of 59670 shares especially high volume was seen for the 10 strike call option expiring june 16 2017  with 251 contracts trading so far today representing approximately 25100 underlying shares of rst below is a chart showing rsts trailing twelve month trading history with the 10 strike highlighted in orangeand bed bath  beyond inc symbol bbby options are showing a volume of 13670 contracts thus far today that number of contracts represents approximately 14 million underlying shares working out to a sizeable 749 of bbbys average daily trading volume over the past month of 18 million shares especially high volume was seen for the 35 strike put option expiring january 19 2018  with 13089 contracts trading so far today representing approximately 13 million underlying shares of bbby below is a chart showing bbbys trailing twelve month trading history with the 35 strike highlighted in orangefor the various different available expirations for tsla options  rst options  or bbby options  visit stockoptionschannelcom'"
      ]
     },
     "execution_count": 36,
     "metadata": {},
     "output_type": "execute_result"
    }
   ],
   "source": [
    "editedNoPunkt=\" \".join(noPunkt)\n",
    "editedNoPunkt"
   ]
  },
  {
   "cell_type": "code",
   "execution_count": 37,
   "metadata": {},
   "outputs": [
    {
     "data": {
      "text/plain": [
       "36"
      ]
     },
     "execution_count": 37,
     "metadata": {},
     "output_type": "execute_result"
    }
   ],
   "source": [
    "len(set(editedNoPunkt))"
   ]
  },
  {
   "cell_type": "code",
   "execution_count": 38,
   "metadata": {},
   "outputs": [
    {
     "data": {
      "text/plain": [
       "2040"
      ]
     },
     "execution_count": 38,
     "metadata": {},
     "output_type": "execute_result"
    }
   ],
   "source": [
    "len(editedNoPunkt)"
   ]
  },
  {
   "cell_type": "code",
   "execution_count": 39,
   "metadata": {},
   "outputs": [
    {
     "data": {
      "text/plain": [
       "[['looking at options trading activity among components of the russell 3000 index there is noteworthy activity today in tesla inc symbol tsla where a total volume of 60790 contracts has been traded thus far today a contract volume which is representative of approximately 61 million underlying shares given that every 1 contract represents 100 underlying shares'],\n",
       " ['that number works out to 1014 of tslas average daily trading volume over the past month of 60 million shares'],\n",
       " ['particularly high volume was seen for the 260 strike call option expiring march 17 2017  with 6285 contracts trading so far today representing approximately 628500 underlying shares of tsla'],\n",
       " ['below is a chart showing tslas trailing twelve month trading history with the 260 strike highlighted in orangerosetta stone inc symbol rst options are showing a volume of 542 contracts thus far today'],\n",
       " ['that number of contracts represents approximately 54200 underlying shares working out to a sizeable 908 of rsts average daily trading volume over the past month of 59670 shares'],\n",
       " ['especially high volume was seen for the 10 strike call option expiring june 16 2017  with 251 contracts trading so far today representing approximately 25100 underlying shares of rst'],\n",
       " ['below is a chart showing rsts trailing twelve month trading history with the 10 strike highlighted in orangeand bed bath  beyond inc symbol bbby options are showing a volume of 13670 contracts thus far today'],\n",
       " ['that number of contracts represents approximately 14 million underlying shares working out to a sizeable 749 of bbbys average daily trading volume over the past month of 18 million shares'],\n",
       " ['especially high volume was seen for the 35 strike put option expiring january 19 2018  with 13089 contracts trading so far today representing approximately 13 million underlying shares of bbby'],\n",
       " ['below is a chart showing bbbys trailing twelve month trading history with the 35 strike highlighted in orangefor the various different available expirations for tsla options  rst options  or bbby options  visit stockoptionschannelcom']]"
      ]
     },
     "execution_count": 39,
     "metadata": {},
     "output_type": "execute_result"
    }
   ],
   "source": [
    "word2VecList=[[x] for x in noPunkt]\n",
    "word2VecList"
   ]
  },
  {
   "cell_type": "code",
   "execution_count": 47,
   "metadata": {},
   "outputs": [
    {
     "name": "stdout",
     "output_type": "stream",
     "text": [
      "[==================================================] 100.0% 128.1/128.1MB downloaded\n",
      "queen: 0.7699\n"
     ]
    }
   ],
   "source": [
    "import gensim.downloader as api\n",
    "word_vectors = api.load(\"glove-wiki-gigaword-100\")\n",
    "result = word_vectors.most_similar(positive=['woman', 'king'], negative=['man'])\n",
    "print(\"{}: {:.4f}\".format(*result[0]))"
   ]
  },
  {
   "cell_type": "code",
   "execution_count": 26,
   "metadata": {},
   "outputs": [],
   "source": []
  },
  {
   "cell_type": "code",
   "execution_count": 27,
   "metadata": {},
   "outputs": [
    {
     "name": "stdout",
     "output_type": "stream",
     "text": [
      "without GPU: 5.108075699999972\n"
     ]
    },
    {
     "name": "stderr",
     "output_type": "stream",
     "text": [
      "C:\\ProgramData\\Anaconda3\\lib\\site-packages\\numba\\cuda\\decorators.py:113: UserWarning: autojit is deprecated and will be removed in a future release. Use jit instead.\n",
      "  warn('autojit is deprecated and will be removed in a future release. Use jit instead.')\n"
     ]
    },
    {
     "ename": "NvvmSupportError",
     "evalue": "libNVVM cannot be found. Do `conda install cudatoolkit`:\nlibrary nvvm not found",
     "output_type": "error",
     "traceback": [
      "\u001b[1;31m---------------------------------------------------------------------------\u001b[0m",
      "\u001b[1;31mOSError\u001b[0m                                   Traceback (most recent call last)",
      "\u001b[1;32mC:\\ProgramData\\Anaconda3\\lib\\site-packages\\numba\\cuda\\cudadrv\\nvvm.py\u001b[0m in \u001b[0;36m__new__\u001b[1;34m(cls)\u001b[0m\n\u001b[0;32m    110\u001b[0m                 \u001b[1;32mtry\u001b[0m\u001b[1;33m:\u001b[0m\u001b[1;33m\u001b[0m\u001b[1;33m\u001b[0m\u001b[0m\n\u001b[1;32m--> 111\u001b[1;33m                     \u001b[0minst\u001b[0m\u001b[1;33m.\u001b[0m\u001b[0mdriver\u001b[0m \u001b[1;33m=\u001b[0m \u001b[0mopen_cudalib\u001b[0m\u001b[1;33m(\u001b[0m\u001b[1;34m'nvvm'\u001b[0m\u001b[1;33m,\u001b[0m \u001b[0mccc\u001b[0m\u001b[1;33m=\u001b[0m\u001b[1;32mTrue\u001b[0m\u001b[1;33m)\u001b[0m\u001b[1;33m\u001b[0m\u001b[1;33m\u001b[0m\u001b[0m\n\u001b[0m\u001b[0;32m    112\u001b[0m                 \u001b[1;32mexcept\u001b[0m \u001b[0mOSError\u001b[0m \u001b[1;32mas\u001b[0m \u001b[0me\u001b[0m\u001b[1;33m:\u001b[0m\u001b[1;33m\u001b[0m\u001b[1;33m\u001b[0m\u001b[0m\n",
      "\u001b[1;32mC:\\ProgramData\\Anaconda3\\lib\\site-packages\\numba\\cuda\\cudadrv\\libs.py\u001b[0m in \u001b[0;36mopen_cudalib\u001b[1;34m(lib, ccc)\u001b[0m\n\u001b[0;32m     47\u001b[0m     \u001b[1;32mif\u001b[0m \u001b[0mpath\u001b[0m \u001b[1;32mis\u001b[0m \u001b[1;32mNone\u001b[0m\u001b[1;33m:\u001b[0m\u001b[1;33m\u001b[0m\u001b[1;33m\u001b[0m\u001b[0m\n\u001b[1;32m---> 48\u001b[1;33m         \u001b[1;32mraise\u001b[0m \u001b[0mOSError\u001b[0m\u001b[1;33m(\u001b[0m\u001b[1;34m'library %s not found'\u001b[0m \u001b[1;33m%\u001b[0m \u001b[0mlib\u001b[0m\u001b[1;33m)\u001b[0m\u001b[1;33m\u001b[0m\u001b[1;33m\u001b[0m\u001b[0m\n\u001b[0m\u001b[0;32m     49\u001b[0m     \u001b[1;32mif\u001b[0m \u001b[0mccc\u001b[0m\u001b[1;33m:\u001b[0m\u001b[1;33m\u001b[0m\u001b[1;33m\u001b[0m\u001b[0m\n",
      "\u001b[1;31mOSError\u001b[0m: library nvvm not found",
      "\nDuring handling of the above exception, another exception occurred:\n",
      "\u001b[1;31mNvvmSupportError\u001b[0m                          Traceback (most recent call last)",
      "\u001b[1;32m<ipython-input-27-54ce86bc8330>\u001b[0m in \u001b[0;36m<module>\u001b[1;34m\u001b[0m\n\u001b[0;32m     23\u001b[0m \u001b[1;33m\u001b[0m\u001b[0m\n\u001b[0;32m     24\u001b[0m     \u001b[0mstart\u001b[0m \u001b[1;33m=\u001b[0m \u001b[0mtimer\u001b[0m\u001b[1;33m(\u001b[0m\u001b[1;33m)\u001b[0m\u001b[1;33m\u001b[0m\u001b[1;33m\u001b[0m\u001b[0m\n\u001b[1;32m---> 25\u001b[1;33m     \u001b[0mfunc2\u001b[0m\u001b[1;33m(\u001b[0m\u001b[0ma\u001b[0m\u001b[1;33m)\u001b[0m\u001b[1;33m\u001b[0m\u001b[1;33m\u001b[0m\u001b[0m\n\u001b[0m\u001b[0;32m     26\u001b[0m     \u001b[0mprint\u001b[0m\u001b[1;33m(\u001b[0m\u001b[1;34m\"with GPU:\"\u001b[0m\u001b[1;33m,\u001b[0m \u001b[0mtimer\u001b[0m\u001b[1;33m(\u001b[0m\u001b[1;33m)\u001b[0m\u001b[1;33m-\u001b[0m\u001b[0mstart\u001b[0m\u001b[1;33m)\u001b[0m\u001b[1;33m\u001b[0m\u001b[1;33m\u001b[0m\u001b[0m\n",
      "\u001b[1;32mC:\\ProgramData\\Anaconda3\\lib\\site-packages\\numba\\cuda\\dispatcher.py\u001b[0m in \u001b[0;36m__call__\u001b[1;34m(self, *args, **kws)\u001b[0m\n\u001b[0;32m     40\u001b[0m \u001b[1;33m\u001b[0m\u001b[0m\n\u001b[0;32m     41\u001b[0m     \u001b[1;32mdef\u001b[0m \u001b[0m__call__\u001b[0m\u001b[1;33m(\u001b[0m\u001b[0mself\u001b[0m\u001b[1;33m,\u001b[0m \u001b[1;33m*\u001b[0m\u001b[0margs\u001b[0m\u001b[1;33m,\u001b[0m \u001b[1;33m**\u001b[0m\u001b[0mkws\u001b[0m\u001b[1;33m)\u001b[0m\u001b[1;33m:\u001b[0m\u001b[1;33m\u001b[0m\u001b[1;33m\u001b[0m\u001b[0m\n\u001b[1;32m---> 42\u001b[1;33m         \u001b[1;32mreturn\u001b[0m \u001b[0mself\u001b[0m\u001b[1;33m.\u001b[0m\u001b[0mcompiled\u001b[0m\u001b[1;33m(\u001b[0m\u001b[1;33m*\u001b[0m\u001b[0margs\u001b[0m\u001b[1;33m,\u001b[0m \u001b[1;33m**\u001b[0m\u001b[0mkws\u001b[0m\u001b[1;33m)\u001b[0m\u001b[1;33m\u001b[0m\u001b[1;33m\u001b[0m\u001b[0m\n\u001b[0m\u001b[0;32m     43\u001b[0m \u001b[1;33m\u001b[0m\u001b[0m\n\u001b[0;32m     44\u001b[0m     \u001b[1;32mdef\u001b[0m \u001b[0mdisable_compile\u001b[0m\u001b[1;33m(\u001b[0m\u001b[0mself\u001b[0m\u001b[1;33m,\u001b[0m \u001b[0mval\u001b[0m\u001b[1;33m=\u001b[0m\u001b[1;32mTrue\u001b[0m\u001b[1;33m)\u001b[0m\u001b[1;33m:\u001b[0m\u001b[1;33m\u001b[0m\u001b[1;33m\u001b[0m\u001b[0m\n",
      "\u001b[1;32mC:\\ProgramData\\Anaconda3\\lib\\site-packages\\numba\\cuda\\compiler.py\u001b[0m in \u001b[0;36m__call__\u001b[1;34m(self, *args)\u001b[0m\n\u001b[0;32m    804\u001b[0m         \u001b[0mSpecialize\u001b[0m \u001b[1;32mand\u001b[0m \u001b[0minvoke\u001b[0m \u001b[0mthis\u001b[0m \u001b[0mkernel\u001b[0m \u001b[1;32mwith\u001b[0m \u001b[1;33m*\u001b[0m\u001b[0margs\u001b[0m\u001b[1;33m*\u001b[0m\u001b[1;33m.\u001b[0m\u001b[1;33m\u001b[0m\u001b[1;33m\u001b[0m\u001b[0m\n\u001b[0;32m    805\u001b[0m         '''\n\u001b[1;32m--> 806\u001b[1;33m         \u001b[0mkernel\u001b[0m \u001b[1;33m=\u001b[0m \u001b[0mself\u001b[0m\u001b[1;33m.\u001b[0m\u001b[0mspecialize\u001b[0m\u001b[1;33m(\u001b[0m\u001b[1;33m*\u001b[0m\u001b[0margs\u001b[0m\u001b[1;33m)\u001b[0m\u001b[1;33m\u001b[0m\u001b[1;33m\u001b[0m\u001b[0m\n\u001b[0m\u001b[0;32m    807\u001b[0m         \u001b[0mcfg\u001b[0m \u001b[1;33m=\u001b[0m \u001b[0mkernel\u001b[0m\u001b[1;33m[\u001b[0m\u001b[0mself\u001b[0m\u001b[1;33m.\u001b[0m\u001b[0mgriddim\u001b[0m\u001b[1;33m,\u001b[0m \u001b[0mself\u001b[0m\u001b[1;33m.\u001b[0m\u001b[0mblockdim\u001b[0m\u001b[1;33m,\u001b[0m \u001b[0mself\u001b[0m\u001b[1;33m.\u001b[0m\u001b[0mstream\u001b[0m\u001b[1;33m,\u001b[0m \u001b[0mself\u001b[0m\u001b[1;33m.\u001b[0m\u001b[0msharedmem\u001b[0m\u001b[1;33m]\u001b[0m\u001b[1;33m\u001b[0m\u001b[1;33m\u001b[0m\u001b[0m\n\u001b[0;32m    808\u001b[0m         \u001b[0mcfg\u001b[0m\u001b[1;33m(\u001b[0m\u001b[1;33m*\u001b[0m\u001b[0margs\u001b[0m\u001b[1;33m)\u001b[0m\u001b[1;33m\u001b[0m\u001b[1;33m\u001b[0m\u001b[0m\n",
      "\u001b[1;32mC:\\ProgramData\\Anaconda3\\lib\\site-packages\\numba\\cuda\\compiler.py\u001b[0m in \u001b[0;36mspecialize\u001b[1;34m(self, *args)\u001b[0m\n\u001b[0;32m    815\u001b[0m         argtypes = tuple(\n\u001b[0;32m    816\u001b[0m             [self.typingctx.resolve_argument_type(a) for a in args])\n\u001b[1;32m--> 817\u001b[1;33m         \u001b[0mkernel\u001b[0m \u001b[1;33m=\u001b[0m \u001b[0mself\u001b[0m\u001b[1;33m.\u001b[0m\u001b[0mcompile\u001b[0m\u001b[1;33m(\u001b[0m\u001b[0margtypes\u001b[0m\u001b[1;33m)\u001b[0m\u001b[1;33m\u001b[0m\u001b[1;33m\u001b[0m\u001b[0m\n\u001b[0m\u001b[0;32m    818\u001b[0m         \u001b[1;32mreturn\u001b[0m \u001b[0mkernel\u001b[0m\u001b[1;33m\u001b[0m\u001b[1;33m\u001b[0m\u001b[0m\n\u001b[0;32m    819\u001b[0m \u001b[1;33m\u001b[0m\u001b[0m\n",
      "\u001b[1;32mC:\\ProgramData\\Anaconda3\\lib\\site-packages\\numba\\cuda\\compiler.py\u001b[0m in \u001b[0;36mcompile\u001b[1;34m(self, sig)\u001b[0m\n\u001b[0;32m    834\u001b[0m             \u001b[0mself\u001b[0m\u001b[1;33m.\u001b[0m\u001b[0mdefinitions\u001b[0m\u001b[1;33m[\u001b[0m\u001b[1;33m(\u001b[0m\u001b[0mcc\u001b[0m\u001b[1;33m,\u001b[0m \u001b[0margtypes\u001b[0m\u001b[1;33m)\u001b[0m\u001b[1;33m]\u001b[0m \u001b[1;33m=\u001b[0m \u001b[0mkernel\u001b[0m\u001b[1;33m\u001b[0m\u001b[1;33m\u001b[0m\u001b[0m\n\u001b[0;32m    835\u001b[0m             \u001b[1;32mif\u001b[0m \u001b[0mself\u001b[0m\u001b[1;33m.\u001b[0m\u001b[0mbind\u001b[0m\u001b[1;33m:\u001b[0m\u001b[1;33m\u001b[0m\u001b[1;33m\u001b[0m\u001b[0m\n\u001b[1;32m--> 836\u001b[1;33m                 \u001b[0mkernel\u001b[0m\u001b[1;33m.\u001b[0m\u001b[0mbind\u001b[0m\u001b[1;33m(\u001b[0m\u001b[1;33m)\u001b[0m\u001b[1;33m\u001b[0m\u001b[1;33m\u001b[0m\u001b[0m\n\u001b[0m\u001b[0;32m    837\u001b[0m         \u001b[1;32mreturn\u001b[0m \u001b[0mkernel\u001b[0m\u001b[1;33m\u001b[0m\u001b[1;33m\u001b[0m\u001b[0m\n\u001b[0;32m    838\u001b[0m \u001b[1;33m\u001b[0m\u001b[0m\n",
      "\u001b[1;32mC:\\ProgramData\\Anaconda3\\lib\\site-packages\\numba\\cuda\\compiler.py\u001b[0m in \u001b[0;36mbind\u001b[1;34m(self)\u001b[0m\n\u001b[0;32m    542\u001b[0m         \u001b[0mForce\u001b[0m \u001b[0mbinding\u001b[0m \u001b[0mto\u001b[0m \u001b[0mcurrent\u001b[0m \u001b[0mCUDA\u001b[0m \u001b[0mcontext\u001b[0m\u001b[1;33m\u001b[0m\u001b[1;33m\u001b[0m\u001b[0m\n\u001b[0;32m    543\u001b[0m         \"\"\"\n\u001b[1;32m--> 544\u001b[1;33m         \u001b[0mself\u001b[0m\u001b[1;33m.\u001b[0m\u001b[0m_func\u001b[0m\u001b[1;33m.\u001b[0m\u001b[0mget\u001b[0m\u001b[1;33m(\u001b[0m\u001b[1;33m)\u001b[0m\u001b[1;33m\u001b[0m\u001b[1;33m\u001b[0m\u001b[0m\n\u001b[0m\u001b[0;32m    545\u001b[0m \u001b[1;33m\u001b[0m\u001b[0m\n\u001b[0;32m    546\u001b[0m     \u001b[1;33m@\u001b[0m\u001b[0mproperty\u001b[0m\u001b[1;33m\u001b[0m\u001b[1;33m\u001b[0m\u001b[0m\n",
      "\u001b[1;32mC:\\ProgramData\\Anaconda3\\lib\\site-packages\\numba\\cuda\\compiler.py\u001b[0m in \u001b[0;36mget\u001b[1;34m(self)\u001b[0m\n\u001b[0;32m    420\u001b[0m         \u001b[0mcufunc\u001b[0m \u001b[1;33m=\u001b[0m \u001b[0mself\u001b[0m\u001b[1;33m.\u001b[0m\u001b[0mcache\u001b[0m\u001b[1;33m.\u001b[0m\u001b[0mget\u001b[0m\u001b[1;33m(\u001b[0m\u001b[0mdevice\u001b[0m\u001b[1;33m.\u001b[0m\u001b[0mid\u001b[0m\u001b[1;33m)\u001b[0m\u001b[1;33m\u001b[0m\u001b[1;33m\u001b[0m\u001b[0m\n\u001b[0;32m    421\u001b[0m         \u001b[1;32mif\u001b[0m \u001b[0mcufunc\u001b[0m \u001b[1;32mis\u001b[0m \u001b[1;32mNone\u001b[0m\u001b[1;33m:\u001b[0m\u001b[1;33m\u001b[0m\u001b[1;33m\u001b[0m\u001b[0m\n\u001b[1;32m--> 422\u001b[1;33m             \u001b[0mptx\u001b[0m \u001b[1;33m=\u001b[0m \u001b[0mself\u001b[0m\u001b[1;33m.\u001b[0m\u001b[0mptx\u001b[0m\u001b[1;33m.\u001b[0m\u001b[0mget\u001b[0m\u001b[1;33m(\u001b[0m\u001b[1;33m)\u001b[0m\u001b[1;33m\u001b[0m\u001b[1;33m\u001b[0m\u001b[0m\n\u001b[0m\u001b[0;32m    423\u001b[0m \u001b[1;33m\u001b[0m\u001b[0m\n\u001b[0;32m    424\u001b[0m             \u001b[1;31m# Link\u001b[0m\u001b[1;33m\u001b[0m\u001b[1;33m\u001b[0m\u001b[1;33m\u001b[0m\u001b[0m\n",
      "\u001b[1;32mC:\\ProgramData\\Anaconda3\\lib\\site-packages\\numba\\cuda\\compiler.py\u001b[0m in \u001b[0;36mget\u001b[1;34m(self)\u001b[0m\n\u001b[0;32m    391\u001b[0m             \u001b[0march\u001b[0m \u001b[1;33m=\u001b[0m \u001b[0mnvvm\u001b[0m\u001b[1;33m.\u001b[0m\u001b[0mget_arch_option\u001b[0m\u001b[1;33m(\u001b[0m\u001b[1;33m*\u001b[0m\u001b[0mcc\u001b[0m\u001b[1;33m)\u001b[0m\u001b[1;33m\u001b[0m\u001b[1;33m\u001b[0m\u001b[0m\n\u001b[0;32m    392\u001b[0m             ptx = nvvm.llvm_to_ptx(self.llvmir, opt=3, arch=arch,\n\u001b[1;32m--> 393\u001b[1;33m                                    **self._extra_options)\n\u001b[0m\u001b[0;32m    394\u001b[0m             \u001b[0mself\u001b[0m\u001b[1;33m.\u001b[0m\u001b[0mcache\u001b[0m\u001b[1;33m[\u001b[0m\u001b[0mcc\u001b[0m\u001b[1;33m]\u001b[0m \u001b[1;33m=\u001b[0m \u001b[0mptx\u001b[0m\u001b[1;33m\u001b[0m\u001b[1;33m\u001b[0m\u001b[0m\n\u001b[0;32m    395\u001b[0m             \u001b[1;32mif\u001b[0m \u001b[0mconfig\u001b[0m\u001b[1;33m.\u001b[0m\u001b[0mDUMP_ASSEMBLY\u001b[0m\u001b[1;33m:\u001b[0m\u001b[1;33m\u001b[0m\u001b[1;33m\u001b[0m\u001b[0m\n",
      "\u001b[1;32mC:\\ProgramData\\Anaconda3\\lib\\site-packages\\numba\\cuda\\cudadrv\\nvvm.py\u001b[0m in \u001b[0;36mllvm_to_ptx\u001b[1;34m(llvmir, **opts)\u001b[0m\n\u001b[0;32m    466\u001b[0m \u001b[1;33m\u001b[0m\u001b[0m\n\u001b[0;32m    467\u001b[0m \u001b[1;32mdef\u001b[0m \u001b[0mllvm_to_ptx\u001b[0m\u001b[1;33m(\u001b[0m\u001b[0mllvmir\u001b[0m\u001b[1;33m,\u001b[0m \u001b[1;33m**\u001b[0m\u001b[0mopts\u001b[0m\u001b[1;33m)\u001b[0m\u001b[1;33m:\u001b[0m\u001b[1;33m\u001b[0m\u001b[1;33m\u001b[0m\u001b[0m\n\u001b[1;32m--> 468\u001b[1;33m     \u001b[0mcu\u001b[0m \u001b[1;33m=\u001b[0m \u001b[0mCompilationUnit\u001b[0m\u001b[1;33m(\u001b[0m\u001b[1;33m)\u001b[0m\u001b[1;33m\u001b[0m\u001b[1;33m\u001b[0m\u001b[0m\n\u001b[0m\u001b[0;32m    469\u001b[0m     \u001b[0mlibdevice\u001b[0m \u001b[1;33m=\u001b[0m \u001b[0mLibDevice\u001b[0m\u001b[1;33m(\u001b[0m\u001b[0march\u001b[0m\u001b[1;33m=\u001b[0m\u001b[0mopts\u001b[0m\u001b[1;33m.\u001b[0m\u001b[0mget\u001b[0m\u001b[1;33m(\u001b[0m\u001b[1;34m'arch'\u001b[0m\u001b[1;33m,\u001b[0m \u001b[1;34m'compute_20'\u001b[0m\u001b[1;33m)\u001b[0m\u001b[1;33m)\u001b[0m\u001b[1;33m\u001b[0m\u001b[1;33m\u001b[0m\u001b[0m\n\u001b[0;32m    470\u001b[0m     \u001b[1;31m# New LLVM generate a shorthand for datalayout that NVVM does not know\u001b[0m\u001b[1;33m\u001b[0m\u001b[1;33m\u001b[0m\u001b[1;33m\u001b[0m\u001b[0m\n",
      "\u001b[1;32mC:\\ProgramData\\Anaconda3\\lib\\site-packages\\numba\\cuda\\cudadrv\\nvvm.py\u001b[0m in \u001b[0;36m__init__\u001b[1;34m(self)\u001b[0m\n\u001b[0;32m    144\u001b[0m \u001b[1;32mclass\u001b[0m \u001b[0mCompilationUnit\u001b[0m\u001b[1;33m(\u001b[0m\u001b[0mobject\u001b[0m\u001b[1;33m)\u001b[0m\u001b[1;33m:\u001b[0m\u001b[1;33m\u001b[0m\u001b[1;33m\u001b[0m\u001b[0m\n\u001b[0;32m    145\u001b[0m     \u001b[1;32mdef\u001b[0m \u001b[0m__init__\u001b[0m\u001b[1;33m(\u001b[0m\u001b[0mself\u001b[0m\u001b[1;33m)\u001b[0m\u001b[1;33m:\u001b[0m\u001b[1;33m\u001b[0m\u001b[1;33m\u001b[0m\u001b[0m\n\u001b[1;32m--> 146\u001b[1;33m         \u001b[0mself\u001b[0m\u001b[1;33m.\u001b[0m\u001b[0mdriver\u001b[0m \u001b[1;33m=\u001b[0m \u001b[0mNVVM\u001b[0m\u001b[1;33m(\u001b[0m\u001b[1;33m)\u001b[0m\u001b[1;33m\u001b[0m\u001b[1;33m\u001b[0m\u001b[0m\n\u001b[0m\u001b[0;32m    147\u001b[0m         \u001b[0mself\u001b[0m\u001b[1;33m.\u001b[0m\u001b[0m_handle\u001b[0m \u001b[1;33m=\u001b[0m \u001b[0mnvvm_program\u001b[0m\u001b[1;33m(\u001b[0m\u001b[1;33m)\u001b[0m\u001b[1;33m\u001b[0m\u001b[1;33m\u001b[0m\u001b[0m\n\u001b[0;32m    148\u001b[0m         \u001b[0merr\u001b[0m \u001b[1;33m=\u001b[0m \u001b[0mself\u001b[0m\u001b[1;33m.\u001b[0m\u001b[0mdriver\u001b[0m\u001b[1;33m.\u001b[0m\u001b[0mnvvmCreateProgram\u001b[0m\u001b[1;33m(\u001b[0m\u001b[0mbyref\u001b[0m\u001b[1;33m(\u001b[0m\u001b[0mself\u001b[0m\u001b[1;33m.\u001b[0m\u001b[0m_handle\u001b[0m\u001b[1;33m)\u001b[0m\u001b[1;33m)\u001b[0m\u001b[1;33m\u001b[0m\u001b[1;33m\u001b[0m\u001b[0m\n",
      "\u001b[1;32mC:\\ProgramData\\Anaconda3\\lib\\site-packages\\numba\\cuda\\cudadrv\\nvvm.py\u001b[0m in \u001b[0;36m__new__\u001b[1;34m(cls)\u001b[0m\n\u001b[0;32m    114\u001b[0m                     errmsg = (\"libNVVM cannot be found. Do `conda install \"\n\u001b[0;32m    115\u001b[0m                               \"cudatoolkit`:\\n%s\")\n\u001b[1;32m--> 116\u001b[1;33m                     \u001b[1;32mraise\u001b[0m \u001b[0mNvvmSupportError\u001b[0m\u001b[1;33m(\u001b[0m\u001b[0merrmsg\u001b[0m \u001b[1;33m%\u001b[0m \u001b[0me\u001b[0m\u001b[1;33m)\u001b[0m\u001b[1;33m\u001b[0m\u001b[1;33m\u001b[0m\u001b[0m\n\u001b[0m\u001b[0;32m    117\u001b[0m \u001b[1;33m\u001b[0m\u001b[0m\n\u001b[0;32m    118\u001b[0m                 \u001b[1;31m# Find & populate functions\u001b[0m\u001b[1;33m\u001b[0m\u001b[1;33m\u001b[0m\u001b[1;33m\u001b[0m\u001b[0m\n",
      "\u001b[1;31mNvvmSupportError\u001b[0m: libNVVM cannot be found. Do `conda install cudatoolkit`:\nlibrary nvvm not found"
     ]
    }
   ],
   "source": [
    "import numpy as np \n",
    "# to measure exec time \n",
    "from timeit import default_timer as timer    \n",
    "  \n",
    "# normal function to run on cpu \n",
    "def func(a):                                 \n",
    "    for i in range(10000000): \n",
    "        a[i]+= 1      \n",
    "  \n",
    "\n",
    "@jit(target =\"cuda\")                          \n",
    "def func2(a): \n",
    "    for i in range(10000000): \n",
    "        a[i]+= 1\n",
    "if __name__==\"__main__\": \n",
    "    n = 10000000                            \n",
    "    a = np.ones(n, dtype = np.float64) \n",
    "    b = np.ones(n, dtype = np.float32) \n",
    "      \n",
    "    start = timer() \n",
    "    func(a) \n",
    "    print(\"without GPU:\", timer()-start)     \n",
    "      \n",
    "    start = timer() \n",
    "    func2(a) \n",
    "    print(\"with GPU:\", timer()-start) "
   ]
  },
  {
   "cell_type": "code",
   "execution_count": null,
   "metadata": {},
   "outputs": [],
   "source": []
  }
 ],
 "metadata": {
  "kernelspec": {
   "display_name": "Python 3",
   "language": "python",
   "name": "python3"
  },
  "language_info": {
   "codemirror_mode": {
    "name": "ipython",
    "version": 3
   },
   "file_extension": ".py",
   "mimetype": "text/x-python",
   "name": "python",
   "nbconvert_exporter": "python",
   "pygments_lexer": "ipython3",
   "version": "3.7.4"
  }
 },
 "nbformat": 4,
 "nbformat_minor": 4
}
