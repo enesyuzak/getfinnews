{
 "cells": [
  {
   "cell_type": "code",
   "execution_count": 23,
   "metadata": {},
   "outputs": [],
   "source": [
    "#import selenium libraries\n",
    "from selenium import webdriver\n",
    "from selenium.webdriver.common.keys import Keys\n",
    "from selenium.webdriver.chrome.options import Options\n",
    "from selenium.common.exceptions import ElementClickInterceptedException\n",
    "from selenium.webdriver.support.ui import WebDriverWait\n",
    "from selenium.webdriver.support import expected_conditions\n",
    "from selenium.webdriver.common.by import By\n",
    "\n",
    "#import web scrapy librarires\n",
    "from urllib.request import urlopen\n",
    "from bs4 import BeautifulSoup\n",
    "from lxml import html\n",
    "import requests\n",
    "\n",
    "import pandas as pd\n",
    "import numpy as np\n",
    "import math\n",
    "import random\n",
    "import time\n",
    "import datetime\n",
    "import io\n",
    "import imp\n",
    "from task import logs as l\n",
    "from Tools import *\n",
    "\n"
   ]
  },
  {
   "cell_type": "code",
   "execution_count": 24,
   "metadata": {},
   "outputs": [],
   "source": [
    "#headers\n",
    "headers = {'User-Agent': 'Mozilla/5.0 (Windows NT 10.0; Win64; x64) AppleWebKit/537.36 (KHTML, like Gecko) Chrome/85.0.4183.121 Safari/537.36'}"
   ]
  },
  {
   "cell_type": "code",
   "execution_count": 25,
   "metadata": {},
   "outputs": [],
   "source": [
    "file1 = r'C:\\Users\\enesy\\OneDrive\\Okul\\Tez\\Codes\\tez\\getfinnews\\linksKasım.txt'\n",
    "Lines=File.ReadFromFile(file1)\n",
    "newsLinks=[]\n",
    "for l in Lines:\n",
    "    newsLinks.append(l)"
   ]
  },
  {
   "cell_type": "code",
   "execution_count": 26,
   "metadata": {},
   "outputs": [],
   "source": [
    "news=np.array(newsLinks)\n",
    "xNews=np.array(news).flatten()"
   ]
  },
  {
   "cell_type": "code",
   "execution_count": 27,
   "metadata": {},
   "outputs": [
    {
     "name": "stderr",
     "output_type": "stream",
     "text": [
      "C:\\Users\\enesy\\AppData\\Roaming\\Python\\Python37\\site-packages\\ipykernel_launcher.py:3: DeprecationWarning: use options instead of chrome_options\n",
      "  This is separate from the ipykernel package so we can avoid doing imports until\n"
     ]
    }
   ],
   "source": [
    "chrome_options=Options()\n",
    "chrome_options.add_argument('--no-sandbox')\n",
    "driver = webdriver.Chrome(r'C:\\Users\\enesy\\OneDrive\\Okul\\Tez\\Codes\\chromedriver', chrome_options=chrome_options)"
   ]
  },
  {
   "cell_type": "code",
   "execution_count": 28,
   "metadata": {},
   "outputs": [
    {
     "name": "stdout",
     "output_type": "stream",
     "text": [
      "İşlenen sayfa sayısı:  10\n",
      "İşlenen sayfa sayısı:  20\n",
      "İşlenen sayfa sayısı:  30\n",
      "İşlenen sayfa sayısı:  40\n",
      "İşlenen sayfa sayısı:  50\n",
      "İşlenen sayfa sayısı:  60\n",
      "İşlenen sayfa sayısı:  70\n",
      "İşlenen sayfa sayısı:  80\n",
      "İşlenen sayfa sayısı:  90\n",
      "İşlenen sayfa sayısı:  100\n",
      "İşlenen sayfa sayısı:  110\n",
      "İşlenen sayfa sayısı:  120\n",
      "İşlenen sayfa sayısı:  130\n",
      "İşlenen sayfa sayısı:  140\n",
      "İşlenen sayfa sayısı:  150\n",
      "İşlenen sayfa sayısı:  160\n",
      "İşlenen sayfa sayısı:  170\n",
      "İşlenen sayfa sayısı:  180\n",
      "İşlenen sayfa sayısı:  190\n",
      "İşlenen sayfa sayısı:  200\n",
      "İşlenen sayfa sayısı:  210\n",
      "İşlenen sayfa sayısı:  220\n",
      "İşlenen sayfa sayısı:  230\n",
      "İşlenen sayfa sayısı:  240\n",
      "İşlenen sayfa sayısı:  250\n",
      "İşlenen sayfa sayısı:  260\n",
      "İşlenen sayfa sayısı:  270\n",
      "İşlenen sayfa sayısı:  280\n",
      "İşlenen sayfa sayısı:  290\n",
      "İşlenen sayfa sayısı:  300\n",
      "İşlenen sayfa sayısı:  310\n",
      "İşlenen sayfa sayısı:  320\n",
      "İşlenen sayfa sayısı:  330\n",
      "İşlenen sayfa sayısı:  340\n",
      "İşlenen sayfa sayısı:  350\n",
      "İşlenen sayfa sayısı:  360\n",
      "İşlenen sayfa sayısı:  370\n",
      "İşlenen sayfa sayısı:  380\n",
      "İşlenen sayfa sayısı:  390\n",
      "İşlenen sayfa sayısı:  400\n"
     ]
    }
   ],
   "source": [
    "#Alternative(When got error try again same link)\n",
    "## TO-DO: açılan linklerde popup var. engelliyor mu? Kontrol et.\n",
    "#xNews=xNews[0:50]\n",
    "text=[]\n",
    "dateTime=[]\n",
    "lnk=[]\n",
    "err_links=[]\n",
    "err=[]\n",
    "startDate=datetime.datetime.now()\n",
    "page=0\n",
    "step_size=7\n",
    "bulk_size=len(xNews)/step_size\n",
    "bulk_size=round(bulk_size)\n",
    "start=0\n",
    "err_try={\n",
    "    \"link\":\"\",\n",
    "    \"try_count\":0 }\n",
    "tried=5\n",
    "try_c=0\n",
    "err_bool=False\n",
    "k=0\n",
    "step=0\n",
    "while step<=bulk_size:\n",
    "    end=start+step_size\n",
    "    if len(xNews) < end:\n",
    "        end=len(xNews)\n",
    "    while k >= start and k < end:   \n",
    "        if err_bool==True:\n",
    "            k+=-1\n",
    "        err_bool=False\n",
    "        page+=1\n",
    "        if page%10==0:\n",
    "            print(\"İşlenen sayfa sayısı: \",page)\n",
    "        try:\n",
    "            driver.get(xNews[k])\n",
    "            #time.sleep(random.randrange(0,3))\n",
    "            html1 = driver.page_source\n",
    "            soup = BeautifulSoup(html1, 'lxml')\n",
    "            div = soup.find('div', 'body__content')\n",
    "            p=div.find_all(\"p\")\n",
    "            time1=soup.find(\"time\",class_=\"timestamp__date\")\n",
    "            tempStr=\"\"\n",
    "            for ps in p:\n",
    "                tempStr+=ps.text\n",
    "            text.append(str(tempStr))\n",
    "            dateTime.append(time1.text)\n",
    "            lnk.append(xNews[k])\n",
    "            err_try.clear()\n",
    "            try_c=0\n",
    "        except Exception as e:\n",
    "            error_found=str(datetime.datetime.now())+\"-->\"+\"Error: \"+str(e)+\"\\n\"\n",
    "            err.append(error_found)\n",
    "            err_links.append(xNews[k])\n",
    "                \n",
    "            if (err_try.get(\"try_count\") is not None and  err_try.get(\"try_count\")<= tried) or len(err_try)==0:\n",
    "                try_c+=1\n",
    "                err_try= { \n",
    "                    \"link\":xNews[k],\n",
    "                    \"try_count\":try_c\n",
    "                }\n",
    "                err_bool=True\n",
    "            else:\n",
    "                err_try.clear()\n",
    "                try_c=0\n",
    "                err_bool=False\n",
    "                \n",
    "            pass\n",
    "        k+=1\n",
    "    step+=1\n",
    "    start+=step_size\n",
    "                \n",
    "\n",
    "endDate=datetime.datetime.now()   \n",
    "driver.close()"
   ]
  },
  {
   "cell_type": "code",
   "execution_count": 29,
   "metadata": {},
   "outputs": [
    {
     "data": {
      "text/plain": [
       "['https://www.nasdaq.com/articles/pjan-uge%3A-big-etf-outflows-2020-11-06\\n',\n",
       " 'https://www.nasdaq.com/articles/4-growth-investing-strategies-to-pick-from-robinhoods-top-100-2020-11-04\\n',\n",
       " 'https://www.nasdaq.com/articles/logitech-pulls-nasdaq-higher-tesla-braces-for-earnings-2020-10-20\\n',\n",
       " 'https://www.nasdaq.com/articles/switchback-energy-stock-is-a-more-stable-spac-play-than-you-might-think-2020-10-20\\n',\n",
       " 'https://www.nasdaq.com/articles/tesla-downside%3A-how-tesla-stock-could-fall-below-%24150-2020-10-16\\n',\n",
       " 'https://www.nasdaq.com/articles/tesla-makes-another-model-s-price-cut-2020-10-13\\n']"
      ]
     },
     "execution_count": 29,
     "metadata": {},
     "output_type": "execute_result"
    }
   ],
   "source": [
    "err_links"
   ]
  },
  {
   "cell_type": "code",
   "execution_count": 30,
   "metadata": {},
   "outputs": [],
   "source": [
    "seconds=(endDate-startDate).total_seconds()\n",
    "minute, second = divmod(seconds, 60)\n",
    "hour, minute = divmod(minute, 60)\n",
    "\n",
    "elapsedTime=\"Haberlerin okunma süresi: \"+str(hour)+\" saat \"+str(minute)+\" dakika \"+str(second)+\"saniye sürmüştür\"\n",
    "processDateTime=\"\\n\"+str(startDate)+\" tarihinde başladı\\n\"+str(endDate)+\" tarihinde bitti.\""
   ]
  },
  {
   "cell_type": "code",
   "execution_count": 31,
   "metadata": {},
   "outputs": [
    {
     "name": "stdout",
     "output_type": "stream",
     "text": [
      "Mail gönderildi\n",
      "Mail gönderildi\n"
     ]
    }
   ],
   "source": [
    "str_log=elapsedTime+\"\\n\"+processDateTime+\"\\n\"+\"ERROS: \\n\"+error_found\n",
    "File.WriteToFile(\"logLinks.txt\",str_log)\n",
    "File.WriteToFile(\"errorlinks.txt\",str(err_links)+\"\\n\")\n",
    "\n",
    "mail_message=elapsedTime+\"\\n\"+\"Başlama ve bitiş zamanları:\"+processDateTime+\"\\n\"\n",
    "if len(err)>0:\n",
    "    message=\"<b>Hatalar:</b><br>\"+\"<p>\"+str(err)+\"</p>\"+\"<br><br>\"+\"<b>Linkler:</b><br>\"+\"<p>\"+str(err_links)+\"</p>\"\n",
    "    Mail.send_mail(\"Errors-News\",message,\"html\")\n",
    "else:\n",
    "    Mail.send_mail(\"No Error-News\", \"İşlemler hatasız tamamlandı\")\n",
    "Mail.send_mail(\"Veri çekme işlemi tamamlandı\",str(mail_message))\n",
    "\n"
   ]
  },
  {
   "cell_type": "code",
   "execution_count": 32,
   "metadata": {},
   "outputs": [],
   "source": [
    "dfText=pd.DataFrame(text)\n",
    "dfDates=pd.DataFrame(dateTime)\n",
    "dfLinks=pd.DataFrame(lnk)\n",
    "df=pd.concat([dfDates,dfText,dfLinks],ignore_index=True,axis=1)\n",
    "df.columns=[\"Dates\",\"Text\",\"Link\"]\n",
    "df.to_csv(\"TeslaNews_November.csv\",encoding=\"utf-8\")\n"
   ]
  },
  {
   "cell_type": "code",
   "execution_count": 33,
   "metadata": {},
   "outputs": [
    {
     "data": {
      "text/html": [
       "<div>\n",
       "<style scoped>\n",
       "    .dataframe tbody tr th:only-of-type {\n",
       "        vertical-align: middle;\n",
       "    }\n",
       "\n",
       "    .dataframe tbody tr th {\n",
       "        vertical-align: top;\n",
       "    }\n",
       "\n",
       "    .dataframe thead th {\n",
       "        text-align: right;\n",
       "    }\n",
       "</style>\n",
       "<table border=\"1\" class=\"dataframe\">\n",
       "  <thead>\n",
       "    <tr style=\"text-align: right;\">\n",
       "      <th></th>\n",
       "      <th>Dates</th>\n",
       "      <th>Text</th>\n",
       "      <th>Link</th>\n",
       "    </tr>\n",
       "  </thead>\n",
       "  <tbody>\n",
       "    <tr>\n",
       "      <th>1</th>\n",
       "      <td>Nov 6, 2020 10:54AM EST</td>\n",
       "      <td>Looking at units outstanding versus one week p...</td>\n",
       "      <td>https://www.nasdaq.com/articles/pjan-uge%3A-bi...</td>\n",
       "    </tr>\n",
       "  </tbody>\n",
       "</table>\n",
       "</div>"
      ],
      "text/plain": [
       "                     Dates                                               Text  \\\n",
       "1  Nov 6, 2020 10:54AM EST  Looking at units outstanding versus one week p...   \n",
       "\n",
       "                                                Link  \n",
       "1  https://www.nasdaq.com/articles/pjan-uge%3A-bi...  "
      ]
     },
     "execution_count": 33,
     "metadata": {},
     "output_type": "execute_result"
    }
   ],
   "source": [
    "start_date='Agu 31, 2020 3:30PM EDT'\n",
    "end_date='Oct 10, 2020 9:55PM EDT'\n",
    "mask=(df['Dates'] > start_date) & (df['Dates'] <= end_date)\n",
    "df2=df.loc[mask]\n",
    "df2.index = range(0,len(df2))\n",
    "df2[1:2]"
   ]
  },
  {
   "cell_type": "code",
   "execution_count": 34,
   "metadata": {},
   "outputs": [
    {
     "data": {
      "text/plain": [
       "'Nov 5, 2020 4:27PM EST'"
      ]
     },
     "execution_count": 34,
     "metadata": {},
     "output_type": "execute_result"
    }
   ],
   "source": [
    "df2[\"Dates\"][12]"
   ]
  },
  {
   "cell_type": "code",
   "execution_count": 36,
   "metadata": {},
   "outputs": [],
   "source": [
    "df1=pd.read_csv(\"TeslaNews.csv\")\n",
    "df2=pd.read_csv(\"TeslaNews_November.csv\")"
   ]
  },
  {
   "cell_type": "code",
   "execution_count": 42,
   "metadata": {},
   "outputs": [
    {
     "data": {
      "text/html": [
       "<div>\n",
       "<style scoped>\n",
       "    .dataframe tbody tr th:only-of-type {\n",
       "        vertical-align: middle;\n",
       "    }\n",
       "\n",
       "    .dataframe tbody tr th {\n",
       "        vertical-align: top;\n",
       "    }\n",
       "\n",
       "    .dataframe thead th {\n",
       "        text-align: right;\n",
       "    }\n",
       "</style>\n",
       "<table border=\"1\" class=\"dataframe\">\n",
       "  <thead>\n",
       "    <tr style=\"text-align: right;\">\n",
       "      <th></th>\n",
       "      <th>Unnamed: 0</th>\n",
       "      <th>Dates</th>\n",
       "      <th>Text</th>\n",
       "      <th>Link</th>\n",
       "    </tr>\n",
       "  </thead>\n",
       "  <tbody>\n",
       "    <tr>\n",
       "      <th>0</th>\n",
       "      <td>0</td>\n",
       "      <td>Oct 13 2020 7:41AM EDT</td>\n",
       "      <td>Eikon search string for individual stock moves...</td>\n",
       "      <td>https://www.nasdaq.com/articles/buzz-u.s.-stoc...</td>\n",
       "    </tr>\n",
       "    <tr>\n",
       "      <th>1</th>\n",
       "      <td>1</td>\n",
       "      <td>Oct 13 2020 7:11AM EDT</td>\n",
       "      <td>Back in 1993, when drugmaker Amarin's (NASDAQ:...</td>\n",
       "      <td>https://www.nasdaq.com/articles/the-top-2-cont...</td>\n",
       "    </tr>\n",
       "    <tr>\n",
       "      <th>2</th>\n",
       "      <td>2</td>\n",
       "      <td>Oct 13 2020 7:06AM EDT</td>\n",
       "      <td>Electric vehicle pioneer Tesla (NASDAQ: TSLA) ...</td>\n",
       "      <td>https://www.nasdaq.com/articles/forget-tesla-i...</td>\n",
       "    </tr>\n",
       "    <tr>\n",
       "      <th>3</th>\n",
       "      <td>3</td>\n",
       "      <td>Oct 13 2020 6:22AM EDT</td>\n",
       "      <td>Oct 13 (Reuters) - Tesla Inc TSLA.Osaid on Tue...</td>\n",
       "      <td>https://www.nasdaq.com/articles/tesla-cuts-pri...</td>\n",
       "    </tr>\n",
       "    <tr>\n",
       "      <th>4</th>\n",
       "      <td>4</td>\n",
       "      <td>Oct 13 2020 5:28AM EDT</td>\n",
       "      <td>Adds details, backgroundBEIJING, Oct 13 (Reute...</td>\n",
       "      <td>https://www.nasdaq.com/articles/audi-to-launch...</td>\n",
       "    </tr>\n",
       "    <tr>\n",
       "      <th>...</th>\n",
       "      <td>...</td>\n",
       "      <td>...</td>\n",
       "      <td>...</td>\n",
       "      <td>...</td>\n",
       "    </tr>\n",
       "    <tr>\n",
       "      <th>9595</th>\n",
       "      <td>9595</td>\n",
       "      <td>Apr 29 2016 3:43AM EDT</td>\n",
       "      <td>Tesla CEO Elon Musk introduces the Model X. So...</td>\n",
       "      <td>https://www.nasdaq.com/articles/mark-zuckerber...</td>\n",
       "    </tr>\n",
       "    <tr>\n",
       "      <th>9596</th>\n",
       "      <td>9596</td>\n",
       "      <td>Apr 29 2016 2:22AM EDT</td>\n",
       "      <td>Ford ( F ) reported an all time record pre-tax...</td>\n",
       "      <td>https://www.nasdaq.com/articles/ford-posts-rec...</td>\n",
       "    </tr>\n",
       "    <tr>\n",
       "      <th>9597</th>\n",
       "      <td>9597</td>\n",
       "      <td>Apr 28 2016 11:44AM EDT</td>\n",
       "      <td>InvestorPlaceInvestorPlace - Stock Market New...</td>\n",
       "      <td>https://www.nasdaq.com/articles/alphabet-inc%3...</td>\n",
       "    </tr>\n",
       "    <tr>\n",
       "      <th>9598</th>\n",
       "      <td>9598</td>\n",
       "      <td>Apr 28 2016 10:23AM EDT</td>\n",
       "      <td>InvestorPlaceInvestorPlace - Stock Market New...</td>\n",
       "      <td>https://www.nasdaq.com/articles/apple-inc.-aap...</td>\n",
       "    </tr>\n",
       "    <tr>\n",
       "      <th>9599</th>\n",
       "      <td>9599</td>\n",
       "      <td>Apr 28 2016 10:00AM EDT</td>\n",
       "      <td>Energy storage has finally captured the imagin...</td>\n",
       "      <td>https://www.nasdaq.com/articles/lockheed-marti...</td>\n",
       "    </tr>\n",
       "  </tbody>\n",
       "</table>\n",
       "<p>7807 rows × 4 columns</p>\n",
       "</div>"
      ],
      "text/plain": [
       "      Unnamed: 0                    Dates  \\\n",
       "0              0   Oct 13 2020 7:41AM EDT   \n",
       "1              1   Oct 13 2020 7:11AM EDT   \n",
       "2              2   Oct 13 2020 7:06AM EDT   \n",
       "3              3   Oct 13 2020 6:22AM EDT   \n",
       "4              4   Oct 13 2020 5:28AM EDT   \n",
       "...          ...                      ...   \n",
       "9595        9595   Apr 29 2016 3:43AM EDT   \n",
       "9596        9596   Apr 29 2016 2:22AM EDT   \n",
       "9597        9597  Apr 28 2016 11:44AM EDT   \n",
       "9598        9598  Apr 28 2016 10:23AM EDT   \n",
       "9599        9599  Apr 28 2016 10:00AM EDT   \n",
       "\n",
       "                                                   Text  \\\n",
       "0     Eikon search string for individual stock moves...   \n",
       "1     Back in 1993, when drugmaker Amarin's (NASDAQ:...   \n",
       "2     Electric vehicle pioneer Tesla (NASDAQ: TSLA) ...   \n",
       "3     Oct 13 (Reuters) - Tesla Inc TSLA.Osaid on Tue...   \n",
       "4     Adds details, backgroundBEIJING, Oct 13 (Reute...   \n",
       "...                                                 ...   \n",
       "9595  Tesla CEO Elon Musk introduces the Model X. So...   \n",
       "9596  Ford ( F ) reported an all time record pre-tax...   \n",
       "9597   InvestorPlaceInvestorPlace - Stock Market New...   \n",
       "9598   InvestorPlaceInvestorPlace - Stock Market New...   \n",
       "9599  Energy storage has finally captured the imagin...   \n",
       "\n",
       "                                                   Link  \n",
       "0     https://www.nasdaq.com/articles/buzz-u.s.-stoc...  \n",
       "1     https://www.nasdaq.com/articles/the-top-2-cont...  \n",
       "2     https://www.nasdaq.com/articles/forget-tesla-i...  \n",
       "3     https://www.nasdaq.com/articles/tesla-cuts-pri...  \n",
       "4     https://www.nasdaq.com/articles/audi-to-launch...  \n",
       "...                                                 ...  \n",
       "9595  https://www.nasdaq.com/articles/mark-zuckerber...  \n",
       "9596  https://www.nasdaq.com/articles/ford-posts-rec...  \n",
       "9597  https://www.nasdaq.com/articles/alphabet-inc%3...  \n",
       "9598  https://www.nasdaq.com/articles/apple-inc.-aap...  \n",
       "9599  https://www.nasdaq.com/articles/lockheed-marti...  \n",
       "\n",
       "[7807 rows x 4 columns]"
      ]
     },
     "execution_count": 42,
     "metadata": {},
     "output_type": "execute_result"
    }
   ],
   "source": [
    "df1[df1[\"Dates\"]<\"Oct 13 2022 3:43AM EDT\"]"
   ]
  },
  {
   "cell_type": "code",
   "execution_count": null,
   "metadata": {},
   "outputs": [],
   "source": []
  }
 ],
 "metadata": {
  "kernelspec": {
   "display_name": "Python 3",
   "language": "python",
   "name": "python3"
  },
  "language_info": {
   "codemirror_mode": {
    "name": "ipython",
    "version": 3
   },
   "file_extension": ".py",
   "mimetype": "text/x-python",
   "name": "python",
   "nbconvert_exporter": "python",
   "pygments_lexer": "ipython3",
   "version": "3.7.4"
  }
 },
 "nbformat": 4,
 "nbformat_minor": 4
}
