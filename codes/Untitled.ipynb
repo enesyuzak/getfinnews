{
 "cells": [
  {
   "cell_type": "code",
   "execution_count": 20,
   "metadata": {},
   "outputs": [],
   "source": [
    "#import web scrapy librarires\n",
    "from urllib.request import urlopen\n",
    "from bs4 import BeautifulSoup\n",
    "from lxml import html\n",
    "import requests\n",
    "import pandas as pd\n",
    "import numpy as np\n",
    "import datetime\n",
    "import time\n",
    "import random\n",
    "import io\n"
   ]
  },
  {
   "cell_type": "code",
   "execution_count": 21,
   "metadata": {},
   "outputs": [],
   "source": [
    "def WriteToFile(filePath,text):\n",
    "        file1=io.open(filePath,\"a\",encoding=\"utf-8\")\n",
    "        file1.write(text)\n",
    "        file1.close()\n"
   ]
  },
  {
   "cell_type": "code",
   "execution_count": 22,
   "metadata": {},
   "outputs": [],
   "source": [
    "headers = {'User-Agent': 'Mozilla/5.0 (Windows NT 10.0; Win64; x64) AppleWebKit/537.36 (KHTML, like Gecko) Chrome/85.0.4183.121 Safari/537.36'}"
   ]
  },
  {
   "cell_type": "code",
   "execution_count": 23,
   "metadata": {},
   "outputs": [],
   "source": [
    "file1 = open(r'C:\\Users\\enesy\\OneDrive\\Okul\\Tez\\Codes\\tez\\getfinnews\\links.txt', 'r')\n",
    "Lines=file1.readlines()\n",
    "newsLinks=[]\n",
    "for l in Lines:\n",
    "    newsLinks.append(l)\n",
    "news=np.array(newsLinks)\n",
    "xNews=np.array(news).flatten()"
   ]
  },
  {
   "cell_type": "code",
   "execution_count": 24,
   "metadata": {},
   "outputs": [],
   "source": [
    "text=[]\n",
    "dateTime=[]\n",
    "lnk=[]\n",
    "err=[]\n",
    "startDate=datetime.datetime.now()\n",
    "i=0"
   ]
  },
  {
   "cell_type": "code",
   "execution_count": 25,
   "metadata": {},
   "outputs": [
    {
     "name": "stdout",
     "output_type": "stream",
     "text": [
      "links:  https://www.nasdaq.com/articles/buzz-u.s.-stocks-on-the-move-johnson-johnson-tesla-walt-disney-blackrock-2020-10-13\n",
      "\n",
      "404\n",
      "Error:  object of type 'Response' has no len()\n",
      "links:  https://www.nasdaq.com/articles/the-top-2-contrarian-stocks-to-buy-right-now-2020-10-13\n",
      "\n",
      "404\n",
      "Error:  object of type 'Response' has no len()\n",
      "links:  https://www.nasdaq.com/articles/forget-tesla-intuitive-surgical-is-a-better-growth-stock-2020-10-13\n",
      "\n",
      "404\n",
      "Error:  object of type 'Response' has no len()\n",
      "links:  https://www.nasdaq.com/articles/tesla-cuts-prices-of-model-s-variant-in-united-states-china-2020-10-13\n",
      "\n",
      "404\n",
      "Error:  object of type 'Response' has no len()\n"
     ]
    }
   ],
   "source": [
    "for links in xNews[0:4]:\n",
    "    i+=1\n",
    "    if i%10==0:\n",
    "        print(\"İşlenen sayfa sayısı: \",i)\n",
    "    try:\n",
    "        print(\"links: \",links)\n",
    "        page=requests.get(links,headers=headers,timeout=(3.05, 27))\n",
    "        print(page.status_code)\n",
    "        time.sleep(random.randrange(0,10))\n",
    "        soup = BeautifulSoup(page, 'lxml')\n",
    "        div = soup.find('div', 'body__content')\n",
    "        p=div.find_all(\"p\")\n",
    "        time1=soup.find(\"time\",class_=\"timestamp__date\")\n",
    "        tempStr=\"\"\n",
    "        for ps in p:\n",
    "            tempStr+=ps.text\n",
    "        text.append(tempStr)\n",
    "        dateTime.append(time1.text)\n",
    "        lnk.append(links)\n",
    "    except Exception as e:\n",
    "        err.append(str(e))\n",
    "        #WriteToFile(\"logLinks.txt\",err)\n",
    "        print(\"Error: \",e)\n",
    "        pass"
   ]
  },
  {
   "cell_type": "code",
   "execution_count": 7,
   "metadata": {},
   "outputs": [
    {
     "data": {
      "text/plain": [
       "[]"
      ]
     },
     "execution_count": 7,
     "metadata": {},
     "output_type": "execute_result"
    }
   ],
   "source": [
    "text"
   ]
  },
  {
   "cell_type": "code",
   "execution_count": 7,
   "metadata": {},
   "outputs": [
    {
     "ename": "NameError",
     "evalue": "name 'math' is not defined",
     "output_type": "error",
     "traceback": [
      "\u001b[1;31m---------------------------------------------------------------------------\u001b[0m",
      "\u001b[1;31mNameError\u001b[0m                                 Traceback (most recent call last)",
      "\u001b[1;32m<ipython-input-7-3beffdfd5f01>\u001b[0m in \u001b[0;36m<module>\u001b[1;34m\u001b[0m\n\u001b[0;32m      1\u001b[0m \u001b[0mendDate\u001b[0m\u001b[1;33m=\u001b[0m\u001b[0mdatetime\u001b[0m\u001b[1;33m.\u001b[0m\u001b[0mdatetime\u001b[0m\u001b[1;33m.\u001b[0m\u001b[0mnow\u001b[0m\u001b[1;33m(\u001b[0m\u001b[1;33m)\u001b[0m\u001b[1;33m\u001b[0m\u001b[1;33m\u001b[0m\u001b[0m\n\u001b[0;32m      2\u001b[0m \u001b[0mminute\u001b[0m\u001b[1;33m=\u001b[0m\u001b[0mdivmod\u001b[0m\u001b[1;33m(\u001b[0m\u001b[1;33m(\u001b[0m\u001b[0mendDate\u001b[0m\u001b[1;33m-\u001b[0m\u001b[0mstartDate\u001b[0m\u001b[1;33m)\u001b[0m\u001b[1;33m.\u001b[0m\u001b[0mtotal_seconds\u001b[0m\u001b[1;33m(\u001b[0m\u001b[1;33m)\u001b[0m\u001b[1;33m,\u001b[0m\u001b[1;36m60\u001b[0m\u001b[1;33m)\u001b[0m\u001b[1;33m[\u001b[0m\u001b[1;36m0\u001b[0m\u001b[1;33m]\u001b[0m\u001b[1;33m\u001b[0m\u001b[1;33m\u001b[0m\u001b[0m\n\u001b[1;32m----> 3\u001b[1;33m \u001b[0mminute\u001b[0m\u001b[1;33m=\u001b[0m\u001b[0mmath\u001b[0m\u001b[1;33m.\u001b[0m\u001b[0mfloor\u001b[0m\u001b[1;33m(\u001b[0m\u001b[0mminute\u001b[0m\u001b[1;33m)\u001b[0m\u001b[1;33m\u001b[0m\u001b[1;33m\u001b[0m\u001b[0m\n\u001b[0m\u001b[0;32m      4\u001b[0m \u001b[0msecond\u001b[0m\u001b[1;33m=\u001b[0m\u001b[0mdivmod\u001b[0m\u001b[1;33m(\u001b[0m\u001b[1;33m(\u001b[0m\u001b[0mendDate\u001b[0m\u001b[1;33m-\u001b[0m\u001b[0mstartDate\u001b[0m\u001b[1;33m)\u001b[0m\u001b[1;33m.\u001b[0m\u001b[0mtotal_seconds\u001b[0m\u001b[1;33m(\u001b[0m\u001b[1;33m)\u001b[0m\u001b[1;33m,\u001b[0m\u001b[1;36m60\u001b[0m\u001b[1;33m)\u001b[0m\u001b[1;33m[\u001b[0m\u001b[1;36m1\u001b[0m\u001b[1;33m]\u001b[0m\u001b[1;33m\u001b[0m\u001b[1;33m\u001b[0m\u001b[0m\n\u001b[0;32m      5\u001b[0m \u001b[0mst\u001b[0m\u001b[1;33m=\u001b[0m\u001b[0mstr\u001b[0m\u001b[1;33m(\u001b[0m\u001b[0mminute\u001b[0m\u001b[1;33m)\u001b[0m\u001b[1;33m+\u001b[0m\u001b[1;34m\" dakika \"\u001b[0m\u001b[1;33m+\u001b[0m\u001b[0mstr\u001b[0m\u001b[1;33m(\u001b[0m\u001b[0msecond\u001b[0m\u001b[1;33m)\u001b[0m\u001b[1;33m+\u001b[0m\u001b[1;34m\"saniye sürmüştür\"\u001b[0m\u001b[1;33m\u001b[0m\u001b[1;33m\u001b[0m\u001b[0m\n",
      "\u001b[1;31mNameError\u001b[0m: name 'math' is not defined"
     ]
    }
   ],
   "source": [
    "endDate=datetime.datetime.now()\n",
    "minute=divmod((endDate-startDate).total_seconds(),60)[0]\n",
    "minute=math.floor(minute)\n",
    "second=divmod((endDate-startDate).total_seconds(),60)[1]\n",
    "hour=divmod((endDate-startDate).total_seconds(),3600)[0]\n",
    "hour=math.floor(hour)\n",
    "elapsedTime=\"\\nLİnklerin yüklenme süresi: \"+str(hour)+\" saat \"+str(minute)+\" dakika \"+str(second)+\"saniye sürmüştür\"\n",
    "processDateTime=\"\\n\"+\"İşlem \"+str(startDate)+\" tarihinde başladı, \"+str(endDate)+\" tarihinde bitti.\""
   ]
  },
  {
   "cell_type": "code",
   "execution_count": null,
   "metadata": {},
   "outputs": [],
   "source": [
    "WriteToFile(\"logLinks.txt\",elapsedTime)\n",
    "WriteToFile(\"logLinks.txt\",processDateTime)\n",
    "WriteToFile(\"logLinks.txt\",error_found)\n",
    "\n",
    "mail_message=\"\\n\"+\"Toplam işlem süresi: \"+elapsedTime+\"\\n\"+\"Başlama ve bitiş zamanları: \"+processDateTime+\"\\n\"\n",
    "mail.send_mail(\"Errors\",error_found)\n",
    "mail.send_mail(\"Veri çekme işlemi tamamlandı\",mail_message)\n"
   ]
  },
  {
   "cell_type": "code",
   "execution_count": null,
   "metadata": {},
   "outputs": [],
   "source": [
    "dfText=pd.DataFrame(text)\n",
    "dfDates=pd.DataFrame(dateTime)\n",
    "dfLinks=pd.DataFrame(lnk)\n",
    "df=pd.concat([dfDates,dfText,dfLinks],ignore_index=True,axis=1)\n",
    "df.columns=[\"Dates\",\"Text\",\"Link\"]\n",
    "df.to_csv(\"TeslaNews.csv\",encoding=\"utf-8\")"
   ]
  }
 ],
 "metadata": {
  "kernelspec": {
   "display_name": "Python 3",
   "language": "python",
   "name": "python3"
  },
  "language_info": {
   "codemirror_mode": {
    "name": "ipython",
    "version": 3
   },
   "file_extension": ".py",
   "mimetype": "text/x-python",
   "name": "python",
   "nbconvert_exporter": "python",
   "pygments_lexer": "ipython3",
   "version": "3.7.4"
  }
 },
 "nbformat": 4,
 "nbformat_minor": 4
}
