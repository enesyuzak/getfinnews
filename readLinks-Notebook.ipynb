{
 "cells": [
  {
   "cell_type": "code",
   "execution_count": 20,
   "metadata": {},
   "outputs": [],
   "source": [
    "#import selenium libraries\n",
    "from selenium import webdriver\n",
    "from selenium.webdriver.common.keys import Keys\n",
    "from selenium.webdriver.chrome.options import Options\n",
    "from selenium.common.exceptions import ElementClickInterceptedException\n",
    "from selenium.webdriver.support.ui import WebDriverWait\n",
    "from selenium.webdriver.support import expected_conditions\n",
    "from selenium.webdriver.common.by import By\n",
    "\n",
    "#import web scrapy librarires\n",
    "from urllib.request import urlopen\n",
    "from bs4 import BeautifulSoup\n",
    "from lxml import html\n",
    "import requests\n",
    "\n",
    "import pandas as pd\n",
    "import numpy as np\n",
    "import math\n",
    "import random\n",
    "import time\n",
    "import datetime\n",
    "import io\n",
    "import imp\n",
    "from task import logs as l\n",
    "from Tools import *\n",
    "\n"
   ]
  },
  {
   "cell_type": "code",
   "execution_count": 21,
   "metadata": {},
   "outputs": [],
   "source": [
    "def WriteToFile(filePath,text):\n",
    "        file1=io.open(filePath,\"a\",encoding=\"utf-8\")\n",
    "        file1.write(text)\n",
    "        file1.close()"
   ]
  },
  {
   "cell_type": "code",
   "execution_count": 22,
   "metadata": {},
   "outputs": [],
   "source": [
    "#headers\n",
    "headers = {'User-Agent': 'Mozilla/5.0 (Windows NT 10.0; Win64; x64) AppleWebKit/537.36 (KHTML, like Gecko) Chrome/85.0.4183.121 Safari/537.36'}"
   ]
  },
  {
   "cell_type": "code",
   "execution_count": 23,
   "metadata": {},
   "outputs": [],
   "source": [
    "file1 = r'C:\\Users\\enesy\\OneDrive\\Okul\\Tez\\Codes\\tez\\getfinnews\\links3.txt'\n",
    "#Lines=file1.readlines()\n",
    "Lines=File.ReadFromFile(file1)\n",
    "newsLinks=[]\n",
    "for l in Lines:\n",
    "    newsLinks.append(l)"
   ]
  },
  {
   "cell_type": "code",
   "execution_count": 24,
   "metadata": {},
   "outputs": [],
   "source": [
    "news=np.array(newsLinks)\n",
    "xNews=np.array(news).flatten()"
   ]
  },
  {
   "cell_type": "code",
   "execution_count": 25,
   "metadata": {},
   "outputs": [
    {
     "name": "stderr",
     "output_type": "stream",
     "text": [
      "C:\\Users\\enesy\\AppData\\Roaming\\Python\\Python37\\site-packages\\ipykernel_launcher.py:3: DeprecationWarning: use options instead of chrome_options\n",
      "  This is separate from the ipykernel package so we can avoid doing imports until\n"
     ]
    }
   ],
   "source": [
    "chrome_options=Options()\n",
    "chrome_options.add_argument('--no-sandbox')\n",
    "driver = webdriver.Chrome(r'C:\\Users\\enesy\\OneDrive\\Okul\\Tez\\Codes\\chromedriver', chrome_options=chrome_options)"
   ]
  },
  {
   "cell_type": "code",
   "execution_count": 26,
   "metadata": {},
   "outputs": [
    {
     "name": "stdout",
     "output_type": "stream",
     "text": [
      "İşlenen sayfa sayısı:  10\n"
     ]
    }
   ],
   "source": [
    "text=[]\n",
    "dateTime=[]\n",
    "lnk=[]\n",
    "err_links=[]\n",
    "err=[]\n",
    "startDate=datetime.datetime.now()\n",
    "i=0\n",
    "for links in xNews[0:10]:\n",
    "    i+=1\n",
    "    if i%10==0:\n",
    "        print(\"İşlenen sayfa sayısı: \",i)\n",
    "    try:\n",
    "        driver.get(links)\n",
    "        #time.sleep(random.randrange(0,3))\n",
    "        html1 = driver.page_source\n",
    "        soup = BeautifulSoup(html1, 'lxml')\n",
    "        div = soup.find('div', 'body__content')\n",
    "        p=div.find_all(\"p\")\n",
    "        time1=soup.find(\"time\",class_=\"timestamp__date\")\n",
    "        tempStr=\"\"\n",
    "        for ps in p:\n",
    "            tempStr+=ps.text\n",
    "        text.append(tempStr)\n",
    "        dateTime.append(time1.text)\n",
    "        lnk.append(links)\n",
    "    except Exception as e:\n",
    "        error_found=str(datetime.datetime.now())+\"-->\"+\"Error: \"+str(e)+\"\\n\"\n",
    "        err.append(error_found)\n",
    "        err_links.append(links)\n",
    "        pass\n",
    "driver.close()\n"
   ]
  },
  {
   "cell_type": "code",
   "execution_count": 27,
   "metadata": {},
   "outputs": [],
   "source": [
    "endDate=datetime.datetime.now()\n",
    "hour=divmod((endDate-startDate).total_seconds(),3600)[0]\n",
    "hour=math.floor(hour)\n",
    "minute=divmod((endDate-startDate).total_seconds(),60)[0]\n",
    "minute=math.floor(minute)\n",
    "second=divmod((endDate-startDate).total_seconds(),60)[1]\n",
    "second=math.floor(second)\n",
    "elapsedTime=\"Haberlerin okunma süresi: \"+str(hour)+\" saat \"+str(minute)+\" dakika \"+str(second)+\"saniye sürmüştür\"\n",
    "processDateTime=\"\\n\"+str(startDate)+\" tarihinde başladı\\n\"+str(endDate)+\" tarihinde bitti.\""
   ]
  },
  {
   "cell_type": "code",
   "execution_count": 28,
   "metadata": {},
   "outputs": [
    {
     "name": "stdout",
     "output_type": "stream",
     "text": [
      "Mail gönderildi\n",
      "Mail gönderildi\n"
     ]
    }
   ],
   "source": [
    "File.WriteToFile(\"logLinks.txt\",elapsedTime)\n",
    "File.WriteToFile(\"logLinks.txt\",processDateTime)\n",
    "File.WriteToFile(\"logLinks.txt\",error_found)\n",
    "File.WriteToFile(\"errorlinks\",str(err_links)+\"\\n\")\n",
    "\n",
    "mail_message=\"\\n\"+\"Toplam işlem süresi:\\n \"+elapsedTime+\"\\n\"+\"Başlama ve bitiş zamanları:\"+processDateTime+\"\\n\"\n",
    "if len(err)>0:\n",
    "    Mail.send_mail(\"Errors-News\",str(err))\n",
    "else:\n",
    "    Mail.send_mail(\"No Error-News\", \"İşlemler hatasız tamamlandı\")\n",
    "Mail.send_mail(\"Veri çekme işlemi tamamlandı\",str(mail_message))\n",
    "\n"
   ]
  },
  {
   "cell_type": "code",
   "execution_count": 10,
   "metadata": {},
   "outputs": [
    {
     "ename": "ValueError",
     "evalue": "Length mismatch: Expected axis has 0 elements, new values have 3 elements",
     "output_type": "error",
     "traceback": [
      "\u001b[1;31m---------------------------------------------------------------------------\u001b[0m",
      "\u001b[1;31mValueError\u001b[0m                                Traceback (most recent call last)",
      "\u001b[1;32m<ipython-input-10-f157c7df2bd6>\u001b[0m in \u001b[0;36m<module>\u001b[1;34m\u001b[0m\n\u001b[0;32m      3\u001b[0m \u001b[0mdfLinks\u001b[0m\u001b[1;33m=\u001b[0m\u001b[0mpd\u001b[0m\u001b[1;33m.\u001b[0m\u001b[0mDataFrame\u001b[0m\u001b[1;33m(\u001b[0m\u001b[0mlnk\u001b[0m\u001b[1;33m)\u001b[0m\u001b[1;33m\u001b[0m\u001b[1;33m\u001b[0m\u001b[0m\n\u001b[0;32m      4\u001b[0m \u001b[0mdf\u001b[0m\u001b[1;33m=\u001b[0m\u001b[0mpd\u001b[0m\u001b[1;33m.\u001b[0m\u001b[0mconcat\u001b[0m\u001b[1;33m(\u001b[0m\u001b[1;33m[\u001b[0m\u001b[0mdfDates\u001b[0m\u001b[1;33m,\u001b[0m\u001b[0mdfText\u001b[0m\u001b[1;33m,\u001b[0m\u001b[0mdfLinks\u001b[0m\u001b[1;33m]\u001b[0m\u001b[1;33m,\u001b[0m\u001b[0mignore_index\u001b[0m\u001b[1;33m=\u001b[0m\u001b[1;32mTrue\u001b[0m\u001b[1;33m,\u001b[0m\u001b[0maxis\u001b[0m\u001b[1;33m=\u001b[0m\u001b[1;36m1\u001b[0m\u001b[1;33m)\u001b[0m\u001b[1;33m\u001b[0m\u001b[1;33m\u001b[0m\u001b[0m\n\u001b[1;32m----> 5\u001b[1;33m \u001b[0mdf\u001b[0m\u001b[1;33m.\u001b[0m\u001b[0mcolumns\u001b[0m\u001b[1;33m=\u001b[0m\u001b[1;33m[\u001b[0m\u001b[1;34m\"Dates\"\u001b[0m\u001b[1;33m,\u001b[0m\u001b[1;34m\"Text\"\u001b[0m\u001b[1;33m,\u001b[0m\u001b[1;34m\"Link\"\u001b[0m\u001b[1;33m]\u001b[0m\u001b[1;33m\u001b[0m\u001b[1;33m\u001b[0m\u001b[0m\n\u001b[0m\u001b[0;32m      6\u001b[0m \u001b[0mdf\u001b[0m\u001b[1;33m.\u001b[0m\u001b[0mto_csv\u001b[0m\u001b[1;33m(\u001b[0m\u001b[1;34m\"TeslaNews2.csv\"\u001b[0m\u001b[1;33m,\u001b[0m\u001b[0mencoding\u001b[0m\u001b[1;33m=\u001b[0m\u001b[1;34m\"utf-8\"\u001b[0m\u001b[1;33m)\u001b[0m\u001b[1;33m\u001b[0m\u001b[1;33m\u001b[0m\u001b[0m\n",
      "\u001b[1;32mC:\\ProgramData\\Anaconda3\\lib\\site-packages\\pandas\\core\\generic.py\u001b[0m in \u001b[0;36m__setattr__\u001b[1;34m(self, name, value)\u001b[0m\n\u001b[0;32m   5285\u001b[0m         \u001b[1;32mtry\u001b[0m\u001b[1;33m:\u001b[0m\u001b[1;33m\u001b[0m\u001b[1;33m\u001b[0m\u001b[0m\n\u001b[0;32m   5286\u001b[0m             \u001b[0mobject\u001b[0m\u001b[1;33m.\u001b[0m\u001b[0m__getattribute__\u001b[0m\u001b[1;33m(\u001b[0m\u001b[0mself\u001b[0m\u001b[1;33m,\u001b[0m \u001b[0mname\u001b[0m\u001b[1;33m)\u001b[0m\u001b[1;33m\u001b[0m\u001b[1;33m\u001b[0m\u001b[0m\n\u001b[1;32m-> 5287\u001b[1;33m             \u001b[1;32mreturn\u001b[0m \u001b[0mobject\u001b[0m\u001b[1;33m.\u001b[0m\u001b[0m__setattr__\u001b[0m\u001b[1;33m(\u001b[0m\u001b[0mself\u001b[0m\u001b[1;33m,\u001b[0m \u001b[0mname\u001b[0m\u001b[1;33m,\u001b[0m \u001b[0mvalue\u001b[0m\u001b[1;33m)\u001b[0m\u001b[1;33m\u001b[0m\u001b[1;33m\u001b[0m\u001b[0m\n\u001b[0m\u001b[0;32m   5288\u001b[0m         \u001b[1;32mexcept\u001b[0m \u001b[0mAttributeError\u001b[0m\u001b[1;33m:\u001b[0m\u001b[1;33m\u001b[0m\u001b[1;33m\u001b[0m\u001b[0m\n\u001b[0;32m   5289\u001b[0m             \u001b[1;32mpass\u001b[0m\u001b[1;33m\u001b[0m\u001b[1;33m\u001b[0m\u001b[0m\n",
      "\u001b[1;32mpandas\\_libs\\properties.pyx\u001b[0m in \u001b[0;36mpandas._libs.properties.AxisProperty.__set__\u001b[1;34m()\u001b[0m\n",
      "\u001b[1;32mC:\\ProgramData\\Anaconda3\\lib\\site-packages\\pandas\\core\\generic.py\u001b[0m in \u001b[0;36m_set_axis\u001b[1;34m(self, axis, labels)\u001b[0m\n\u001b[0;32m    659\u001b[0m \u001b[1;33m\u001b[0m\u001b[0m\n\u001b[0;32m    660\u001b[0m     \u001b[1;32mdef\u001b[0m \u001b[0m_set_axis\u001b[0m\u001b[1;33m(\u001b[0m\u001b[0mself\u001b[0m\u001b[1;33m,\u001b[0m \u001b[0maxis\u001b[0m\u001b[1;33m,\u001b[0m \u001b[0mlabels\u001b[0m\u001b[1;33m)\u001b[0m \u001b[1;33m->\u001b[0m \u001b[1;32mNone\u001b[0m\u001b[1;33m:\u001b[0m\u001b[1;33m\u001b[0m\u001b[1;33m\u001b[0m\u001b[0m\n\u001b[1;32m--> 661\u001b[1;33m         \u001b[0mself\u001b[0m\u001b[1;33m.\u001b[0m\u001b[0m_data\u001b[0m\u001b[1;33m.\u001b[0m\u001b[0mset_axis\u001b[0m\u001b[1;33m(\u001b[0m\u001b[0maxis\u001b[0m\u001b[1;33m,\u001b[0m \u001b[0mlabels\u001b[0m\u001b[1;33m)\u001b[0m\u001b[1;33m\u001b[0m\u001b[1;33m\u001b[0m\u001b[0m\n\u001b[0m\u001b[0;32m    662\u001b[0m         \u001b[0mself\u001b[0m\u001b[1;33m.\u001b[0m\u001b[0m_clear_item_cache\u001b[0m\u001b[1;33m(\u001b[0m\u001b[1;33m)\u001b[0m\u001b[1;33m\u001b[0m\u001b[1;33m\u001b[0m\u001b[0m\n\u001b[0;32m    663\u001b[0m \u001b[1;33m\u001b[0m\u001b[0m\n",
      "\u001b[1;32mC:\\ProgramData\\Anaconda3\\lib\\site-packages\\pandas\\core\\internals\\managers.py\u001b[0m in \u001b[0;36mset_axis\u001b[1;34m(self, axis, new_labels)\u001b[0m\n\u001b[0;32m    176\u001b[0m         \u001b[1;32mif\u001b[0m \u001b[0mnew_len\u001b[0m \u001b[1;33m!=\u001b[0m \u001b[0mold_len\u001b[0m\u001b[1;33m:\u001b[0m\u001b[1;33m\u001b[0m\u001b[1;33m\u001b[0m\u001b[0m\n\u001b[0;32m    177\u001b[0m             raise ValueError(\n\u001b[1;32m--> 178\u001b[1;33m                 \u001b[1;34mf\"Length mismatch: Expected axis has {old_len} elements, new \"\u001b[0m\u001b[1;33m\u001b[0m\u001b[1;33m\u001b[0m\u001b[0m\n\u001b[0m\u001b[0;32m    179\u001b[0m                 \u001b[1;34mf\"values have {new_len} elements\"\u001b[0m\u001b[1;33m\u001b[0m\u001b[1;33m\u001b[0m\u001b[0m\n\u001b[0;32m    180\u001b[0m             )\n",
      "\u001b[1;31mValueError\u001b[0m: Length mismatch: Expected axis has 0 elements, new values have 3 elements"
     ]
    }
   ],
   "source": [
    "dfText=pd.DataFrame(text)\n",
    "dfDates=pd.DataFrame(dateTime)\n",
    "dfLinks=pd.DataFrame(lnk)\n",
    "df=pd.concat([dfDates,dfText,dfLinks],ignore_index=True,axis=1)\n",
    "df.columns=[\"Dates\",\"Text\",\"Link\"]\n",
    "df.to_csv(\"TeslaNews2.csv\",encoding=\"utf-8\")"
   ]
  },
  {
   "cell_type": "code",
   "execution_count": 34,
   "metadata": {},
   "outputs": [
    {
     "name": "stdout",
     "output_type": "stream",
     "text": [
      "                      Dates  \\\n",
      "5   Aug 10, 2020 3:50PM EDT   \n",
      "6   Aug 10, 2020 3:20PM EDT   \n",
      "7   Aug 10, 2020 2:36PM EDT   \n",
      "8   Aug 10, 2020 2:13PM EDT   \n",
      "9  Aug 10, 2020 10:29AM EDT   \n",
      "\n",
      "                                                Text  \\\n",
      "5  Last week, President Trump issued a ban on tra...   \n",
      "6  Among the underlying components of the Russell...   \n",
      "7  Adds share movement, details from statementAug...   \n",
      "8  InvestorPlace - Stock Market News, Stock Advic...   \n",
      "9  Check your rear-view mirrors, Tesla (NASDAQ: T...   \n",
      "\n",
      "                                                Link  \n",
      "5  https://www.nasdaq.com/articles/trumps-tencent...  \n",
      "6  https://www.nasdaq.com/articles/noteworthy-mon...  \n",
      "7  https://www.nasdaq.com/articles/nikola-bags-or...  \n",
      "8  https://www.nasdaq.com/articles/7-innovative-s...  \n",
      "9  https://www.nasdaq.com/articles/chinas-latest-...  \n"
     ]
    }
   ],
   "source": [
    "print(df.tail())"
   ]
  },
  {
   "cell_type": "code",
   "execution_count": 22,
   "metadata": {},
   "outputs": [],
   "source": [
    "dfPrice=pd.read_csv(\"TSLA.csv\")"
   ]
  },
  {
   "cell_type": "code",
   "execution_count": 23,
   "metadata": {},
   "outputs": [
    {
     "data": {
      "text/html": [
       "<div>\n",
       "<style scoped>\n",
       "    .dataframe tbody tr th:only-of-type {\n",
       "        vertical-align: middle;\n",
       "    }\n",
       "\n",
       "    .dataframe tbody tr th {\n",
       "        vertical-align: top;\n",
       "    }\n",
       "\n",
       "    .dataframe thead th {\n",
       "        text-align: right;\n",
       "    }\n",
       "</style>\n",
       "<table border=\"1\" class=\"dataframe\">\n",
       "  <thead>\n",
       "    <tr style=\"text-align: right;\">\n",
       "      <th></th>\n",
       "      <th>Date</th>\n",
       "      <th>Open</th>\n",
       "      <th>High</th>\n",
       "      <th>Low</th>\n",
       "      <th>Close</th>\n",
       "      <th>Adj Close</th>\n",
       "      <th>Volume</th>\n",
       "    </tr>\n",
       "  </thead>\n",
       "  <tbody>\n",
       "    <tr>\n",
       "      <th>0</th>\n",
       "      <td>12/10/2010</td>\n",
       "      <td>4.040</td>\n",
       "      <td>4.056</td>\n",
       "      <td>4.006</td>\n",
       "      <td>4.048</td>\n",
       "      <td>4.048</td>\n",
       "      <td>1220000</td>\n",
       "    </tr>\n",
       "    <tr>\n",
       "      <th>1</th>\n",
       "      <td>13/10/2010</td>\n",
       "      <td>4.128</td>\n",
       "      <td>4.170</td>\n",
       "      <td>4.072</td>\n",
       "      <td>4.108</td>\n",
       "      <td>4.108</td>\n",
       "      <td>1591000</td>\n",
       "    </tr>\n",
       "    <tr>\n",
       "      <th>2</th>\n",
       "      <td>14/10/2010</td>\n",
       "      <td>4.200</td>\n",
       "      <td>4.206</td>\n",
       "      <td>4.080</td>\n",
       "      <td>4.150</td>\n",
       "      <td>4.150</td>\n",
       "      <td>1474000</td>\n",
       "    </tr>\n",
       "    <tr>\n",
       "      <th>3</th>\n",
       "      <td>15/10/2010</td>\n",
       "      <td>4.178</td>\n",
       "      <td>4.180</td>\n",
       "      <td>4.050</td>\n",
       "      <td>4.108</td>\n",
       "      <td>4.108</td>\n",
       "      <td>1423500</td>\n",
       "    </tr>\n",
       "    <tr>\n",
       "      <th>4</th>\n",
       "      <td>18/10/2010</td>\n",
       "      <td>4.104</td>\n",
       "      <td>4.128</td>\n",
       "      <td>4.044</td>\n",
       "      <td>4.046</td>\n",
       "      <td>4.046</td>\n",
       "      <td>814000</td>\n",
       "    </tr>\n",
       "  </tbody>\n",
       "</table>\n",
       "</div>"
      ],
      "text/plain": [
       "         Date   Open   High    Low  Close  Adj Close   Volume\n",
       "0  12/10/2010  4.040  4.056  4.006  4.048      4.048  1220000\n",
       "1  13/10/2010  4.128  4.170  4.072  4.108      4.108  1591000\n",
       "2  14/10/2010  4.200  4.206  4.080  4.150      4.150  1474000\n",
       "3  15/10/2010  4.178  4.180  4.050  4.108      4.108  1423500\n",
       "4  18/10/2010  4.104  4.128  4.044  4.046      4.046   814000"
      ]
     },
     "execution_count": 23,
     "metadata": {},
     "output_type": "execute_result"
    }
   ],
   "source": [
    "dfPrice.head()"
   ]
  },
  {
   "cell_type": "code",
   "execution_count": null,
   "metadata": {},
   "outputs": [],
   "source": [
    "df[\"Dates\"]"
   ]
  },
  {
   "cell_type": "code",
   "execution_count": null,
   "metadata": {},
   "outputs": [],
   "source": [
    "\n",
    "v=[]\n",
    "for i in df[\"Dates\"]:\n",
    "    pos=i.find(\"EDT\")\n",
    "    k=i.str.slice(start=0,stop=len(i)-pos,step=1)\n",
    "    \n",
    "#dfSamples=pd.DataFrame()\n",
    "#dfSamples= datetime.datetime.strftime(df[\"Dates\"], '%Y-%m-%d')\n",
    "#dfSamples.strftime('%b %d,%Y')"
   ]
  },
  {
   "cell_type": "code",
   "execution_count": null,
   "metadata": {},
   "outputs": [],
   "source": []
  }
 ],
 "metadata": {
  "kernelspec": {
   "display_name": "Python 3",
   "language": "python",
   "name": "python3"
  },
  "language_info": {
   "codemirror_mode": {
    "name": "ipython",
    "version": 3
   },
   "file_extension": ".py",
   "mimetype": "text/x-python",
   "name": "python",
   "nbconvert_exporter": "python",
   "pygments_lexer": "ipython3",
   "version": "3.7.4"
  }
 },
 "nbformat": 4,
 "nbformat_minor": 4
}
