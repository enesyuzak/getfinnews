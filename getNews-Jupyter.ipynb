{
 "cells": [
  {
   "cell_type": "code",
   "execution_count": 1,
   "metadata": {},
   "outputs": [],
   "source": [
    "#import selenium libraries\n",
    "from selenium import webdriver\n",
    "from selenium.webdriver.common.keys import Keys\n",
    "from selenium.webdriver.chrome.options import Options\n",
    "from selenium.webdriver.common.action_chains import ActionChains\n",
    "from selenium.common.exceptions import ElementClickInterceptedException\n",
    "from selenium.webdriver.support.ui import WebDriverWait\n",
    "from selenium.webdriver.support import expected_conditions\n",
    "from selenium.webdriver.common.by import By\n",
    "\n",
    "#import web scrapy librarires\n",
    "from urllib.request import urlopen\n",
    "from bs4 import BeautifulSoup\n",
    "from lxml import html\n",
    "import requests\n",
    "\n",
    "#import data libraries\n",
    "import pandas as pd\n",
    "import numpy as np\n",
    "\n",
    "#import system libraries\n",
    "import time\n",
    "import datetime\n",
    "import sys\n",
    "import random\n",
    "import io\n",
    "import math\n",
    "from Tools import *\n"
   ]
  },
  {
   "cell_type": "code",
   "execution_count": 2,
   "metadata": {},
   "outputs": [],
   "source": [
    "#headers\n",
    "headers = {'User-Agent': 'Mozilla/5.0 (Windows NT 10.0; Win64; x64) AppleWebKit/537.36 (KHTML, like Gecko) Chrome/85.0.4183.121 Safari/537.36'}"
   ]
  },
  {
   "cell_type": "code",
   "execution_count": 3,
   "metadata": {},
   "outputs": [],
   "source": [
    "start=\"\\n\"+\" ************************************* İşlemler başladı ************************************************\"\n",
    "startDate=datetime.datetime.now()\n",
    "File.log(start)\n",
    "#consts\n",
    "page=10\n",
    "delay=1"
   ]
  },
  {
   "cell_type": "code",
   "execution_count": 4,
   "metadata": {},
   "outputs": [
    {
     "name": "stderr",
     "output_type": "stream",
     "text": [
      "C:\\Users\\enesy\\AppData\\Roaming\\Python\\Python37\\site-packages\\ipykernel_launcher.py:4: DeprecationWarning: use options instead of chrome_options\n",
      "  after removing the cwd from sys.path.\n"
     ]
    }
   ],
   "source": [
    "#chrome driver options\n",
    "chrome_options=Options()\n",
    "chrome_options.add_argument('--no-sandbox')\n",
    "driver = webdriver.Chrome(r'C:\\Users\\enesy\\OneDrive\\Okul\\Tez\\Codes\\chromedriver', chrome_options=chrome_options)\n",
    "driver.implicitly_wait(5)\n",
    "#driver.maximize_window()\n",
    "try:\n",
    "    driver.get('https://www.nasdaq.com/market-activity/stocks/tsla/news-headlines')\n",
    "    time.sleep(5)\n",
    "except:\n",
    "    error=\"\\n\"+str(datetime.datetime.now())+\" tarihinde sayfa açma esnasında hata alındı: \"+ str(sys.exc_info()[0])\n",
    "    print(\"Unexpected error:\", sys.exc_info()[0])\n",
    "    File.log(error)\n",
    "    driver.close()\n",
    "    pass"
   ]
  },
  {
   "cell_type": "code",
   "execution_count": 5,
   "metadata": {},
   "outputs": [],
   "source": [
    "#if there is a popup close it\n",
    "try:\n",
    "    popup=driver.find_element_by_xpath(\"//button[@id='_evh-ric-c']\")\n",
    "    #.find_element_by_id(\"gb_23\")\n",
    "    if popup is not None:\n",
    "        popup.click()\n",
    "except:\n",
    "    error=\"\\n\"+str(datetime.datetime.now())+\" tarihinde Popup kapatma esnasında hata alındı: \"+ str(sys.exc_info()[0])\n",
    "    print(\"Unexpected error:\", sys.exc_info()[0])\n",
    "    File.log(error)\n",
    "    pass"
   ]
  },
  {
   "cell_type": "code",
   "execution_count": 6,
   "metadata": {},
   "outputs": [
    {
     "name": "stdout",
     "output_type": "stream",
     "text": [
      "Sayfa sayısı:  10\n"
     ]
    }
   ],
   "source": [
    "#Get links\n",
    "err=[]\n",
    "newsLinks=[]\n",
    "recentList = driver.find_elements_by_xpath(\"//div[@class='symbol-back-to-overview']\") \n",
    "for listt in recentList :\n",
    "    driver.execute_script(\"arguments[0].scrollIntoView();\", listt )\n",
    "\n",
    "for i in range(1,page+1):\n",
    "    if i%10==0:\n",
    "        print(\"Sayfa sayısı: \",i)\n",
    "    lnk=[]\n",
    "    lnk=[links.get_attribute(\"href\") for links in driver.find_elements_by_xpath('//a[@class=\"quote-news-headlines__link\"]')]\n",
    "    newsLinks.append(lnk)\n",
    "    time.sleep(delay)\n",
    "    \n",
    "    try:\n",
    "        element=WebDriverWait(driver,delay).until(expected_conditions.presence_of_element_located((By.CLASS_NAME, \"pagination__next\")))\n",
    "        Scrap.act(driver)\n",
    "    except:\n",
    "        print(\"Unexpected error:\", sys.exc_info()[0])\n",
    "        error=\"\\n\"+str(datetime.datetime.now())+\" tarihinde sayfa geçişleri esnasında  \"+str(sys.exc_info()[0])+\"  hatası alındı.\"\n",
    "        err.append(error)\n",
    "        pass\n",
    "driver.close()"
   ]
  },
  {
   "cell_type": "code",
   "execution_count": 7,
   "metadata": {},
   "outputs": [
    {
     "name": "stdout",
     "output_type": "stream",
     "text": [
      "Mail gönderildi\n",
      "Mail gönderildi\n"
     ]
    }
   ],
   "source": [
    "#calculate running time\n",
    "endDate=datetime.datetime.now()\n",
    "seconds=(endDate-startDate).total_seconds()\n",
    "minute, second = divmod(seconds, 60)\n",
    "hour, minute = divmod(minute, 60)\n",
    "\n",
    "\n",
    "elapsedTime=\"\\nLinklerin yüklenme süresi: \"+str(hour)+\" saat \"+str(minute)+\" dakika \"+str(second)+\"saniye sürmüştür\"\n",
    "processDateTime=\"\\n\"+str(startDate)+\" tarihinde başladı\\n \"+str(endDate)+\" tarihinde bitti.\"\n",
    "#write log\n",
    "File.WriteToFile(\"logLinks.txt\",elapsedTime)\n",
    "File.WriteToFile(\"logLinks.txt\",processDateTime)\n",
    "File.WriteToFile(\"logLinks.txt\",str(err))\n",
    "Mail.send_mail(\"Veri çekme işlemi tamamlandı\",elapsedTime)\n",
    "if len(err)>0:\n",
    "    Mail.send_mail(\"Errors-Links\",str(err))\n",
    "else:\n",
    "    Mail.send_mail(\"No Error-Links\", \"Link elde etme işlemleri hatasız tamamlandı\")\n"
   ]
  },
  {
   "cell_type": "code",
   "execution_count": 8,
   "metadata": {},
   "outputs": [],
   "source": [
    "news=np.array(newsLinks)\n",
    "xNews=np.array(news).flatten()\n",
    "for i in xNews:\n",
    "    File.WriteToFile(\"links3.txt\",str(i)+\"\\n\")"
   ]
  },
  {
   "cell_type": "code",
   "execution_count": 15,
   "metadata": {},
   "outputs": [
    {
     "data": {
      "text/plain": [
       "array(['https://www.nasdaq.com/articles/is-tesla-stock-a-buy-ahead-of-earnings-2020-10-18',\n",
       "       'https://www.nasdaq.com/articles/2-big-challenges-as-tesla-aims-for-a-%2425000-car-2020-10-18',\n",
       "       'https://www.nasdaq.com/articles/wall-st-week-ahead-big-tech-nervousness-prompts-calls-to-diversify-2020-10-18',\n",
       "       'https://www.nasdaq.com/articles/weekly-preview%3A-stocks-to-watch-amzn-intc-msft-nflx-tsla-2020-10-18',\n",
       "       'https://www.nasdaq.com/articles/is-cerence-stock-headed-to-%2482-2020-10-17',\n",
       "       'https://www.nasdaq.com/articles/spacs-are-in-a-bubble-but-these-3-stocks-will-make-it-through-2020-10-17',\n",
       "       'https://www.nasdaq.com/articles/report%3A-tesla-cancels-7-day-no-questions-asked-return-policy-2020-10-16',\n",
       "       'https://www.nasdaq.com/articles/despite-government-threat-general-electric-is-still-treading-water-2020-10-16',\n",
       "       'https://www.nasdaq.com/articles/wall-st-week-ahead-big-tech-nervousness-prompts-calls-to-diversify-2020-10-16',\n",
       "       'https://www.nasdaq.com/articles/workhouse-has-a-tall-order-to-climb-2020-10-16',\n",
       "       'https://www.nasdaq.com/articles/why-science-isnt-enough-for-velodyne-2020-10-16',\n",
       "       'https://www.nasdaq.com/articles/workhorse-group-is-still-a-work-in-progress-2020-10-16',\n",
       "       'https://www.nasdaq.com/articles/even-apple-is-a-penny-stock-with-fractional-shares-2020-10-16',\n",
       "       'https://www.nasdaq.com/articles/glencore-talking-with-carmakers-and-battery-makers-about-nickel-ceo-says-2020-10-16',\n",
       "       'https://www.nasdaq.com/articles/ceo-of-top-battery-maker-lg-chem-discloses-jv-talks-defends-split-off-2020-10-16',\n",
       "       'https://www.nasdaq.com/articles/tesla-downside%3A-how-tesla-stock-could-fall-below-%24150-2020-10-16',\n",
       "       'https://www.nasdaq.com/articles/telsa-downside%3A-how-tesla-stock-could-fall-below-%24150-2020-10-16',\n",
       "       'https://www.nasdaq.com/articles/top-ev-battery-maker-lg-chem-in-jv-talks-with-automakers-ceo-2020-10-16',\n",
       "       'https://www.nasdaq.com/articles/tesla-again-cutting-price-of-model-s-musk-says-2020-10-16',\n",
       "       'https://www.nasdaq.com/articles/analysts-assert-tesla-stock-needs-a-10-year-breather-2020-10-15',\n",
       "       'https://www.nasdaq.com/articles/velodyne-is-poised-to-be-a-winning-self-driving-play-2020-10-15',\n",
       "       'https://www.nasdaq.com/articles/kensington-capital-stock-could-be-the-ultimate-unicorn-investment-2020-10-15',\n",
       "       'https://www.nasdaq.com/articles/nio-stock-is-breaking-out-heres-how-the-chart-looks-now-2020-10-15',\n",
       "       'https://www.nasdaq.com/articles/tesla-cuts-price-of-model-s-2020-10-15',\n",
       "       'https://www.nasdaq.com/articles/daily-markets%3A-investors-angst-amid-accelerating-cases-as-stimulus-hopes-fade-2020-10-15',\n",
       "       'https://www.nasdaq.com/articles/billionaire%3A-tesla-stock-could-double-2-to-3-times-in-10-years-2020-10-15',\n",
       "       'https://www.nasdaq.com/articles/robinhood-investors-might-be-violating-basic-allocation-rules-2020-10-15',\n",
       "       'https://www.nasdaq.com/articles/should-you-pick-nio-over-tesla-2020-10-15',\n",
       "       'https://www.nasdaq.com/articles/teslas-sky-high-valuation-is-unjustified-says-analyst-2020-10-14',\n",
       "       'https://www.nasdaq.com/articles/pure-minerals-inks-non-binding-deal-with-lg-chem-for-supply-of-nickel-cobalt-2020-10-14',\n",
       "       'https://www.nasdaq.com/articles/teslas-back-to-back-price-cuts-put-sticker-on-u.s.-model-s-below-%2470000-2020-10-14',\n",
       "       'https://www.nasdaq.com/articles/teslas-model-s-price-to-be-cut-to-%2469420-musk-2020-10-14',\n",
       "       'https://www.nasdaq.com/articles/buy-piedmont-lithium-stock-now-for-unique-ev-exposure-2020-10-14',\n",
       "       'https://www.nasdaq.com/articles/billionaire-investor-says-tesla-is-a-%242-trillion-stock-2020-10-14',\n",
       "       'https://www.nasdaq.com/articles/why-piedmont-lithiums-tesla-news-sparked-a-15-pop-this-morning-2020-10-14',\n",
       "       'https://www.nasdaq.com/articles/mixed-stock-markets-leave-nio-charging-up-b-of-a-powering-down-2020-10-14',\n",
       "       'https://www.nasdaq.com/articles/3-glass-battery-plays-for-a-compelling-nascent-industry-2020-10-14',\n",
       "       'https://www.nasdaq.com/articles/exxon-mobil-stock-is-still-a-buy-and-for-the-right-reasons-2020-10-14',\n",
       "       'https://www.nasdaq.com/articles/why-nio-stock-is-charging-higher-today-2020-10-14',\n",
       "       'https://www.nasdaq.com/articles/breakingviews-vw-bid-for-teslas-crown-rests-on-shaky-optimism-2020-10-14',\n",
       "       'https://www.nasdaq.com/articles/moscow-exchange-bets-on-retail-investors-more-listings-2020-10-14-0',\n",
       "       'https://www.nasdaq.com/articles/twitters-security-fell-short-before-hack-targeting-celebrities-regulator-says-2020-10-14',\n",
       "       'https://www.nasdaq.com/articles/pre-market-most-active-for-oct-14-2020-%3A-nio-aapl-bac-sqqq-mdrx-wfc-rcl-gs-tsla-li-qqq-fe',\n",
       "       'https://www.nasdaq.com/articles/moscow-exchange-bets-on-retail-investors-more-listings-2020-10-14',\n",
       "       'https://www.nasdaq.com/articles/spacexs-starlink-set-to-begin-public-beta.-will-it-deliver-2020-10-14',\n",
       "       'https://www.nasdaq.com/articles/hyundai-motor-heir-takes-over-from-father-after-20-yrs-in-waiting-2020-10-13',\n",
       "       'https://www.nasdaq.com/articles/piedmont-lithium-shares-may-have-been-lifted-too-fast-2020-10-13',\n",
       "       'https://www.nasdaq.com/articles/buzz-u.s.-stocks-on-the-move-royal-caribbean-cruises-apple-moderna-jj-2020-10-13',\n",
       "       'https://www.nasdaq.com/articles/tesla-makes-another-model-s-price-cut-2020-10-13',\n",
       "       'https://www.nasdaq.com/articles/buzz-u.s.-stocks-on-the-move-johnson-johnson-gossamer-amazon-citigroup-2020-10-13',\n",
       "       'https://www.nasdaq.com/articles/the-law-of-accelerating-returns%3A-the-reason-for-americas-wealth-gap-and-how-to-make-it',\n",
       "       'https://www.nasdaq.com/articles/forget-tesla%3A-this-ev-stock-has-better-growth-potential-2020-10-13',\n",
       "       'https://www.nasdaq.com/articles/tesla-cuts-prices-of-model-s-in-united-states-china-2020-10-13',\n",
       "       'https://www.nasdaq.com/articles/buzz-u.s.-stocks-on-the-move-jj-jpmorgan-micron-vaxart-2020-10-13',\n",
       "       'https://www.nasdaq.com/articles/buzz-u.s.-stocks-on-the-move-johnson-johnson-tesla-walt-disney-blackrock-2020-10-13',\n",
       "       'https://www.nasdaq.com/articles/the-top-2-contrarian-stocks-to-buy-right-now-2020-10-13',\n",
       "       'https://www.nasdaq.com/articles/forget-tesla-intuitive-surgical-is-a-better-growth-stock-2020-10-13',\n",
       "       'https://www.nasdaq.com/articles/tesla-cuts-prices-of-model-s-variant-in-united-states-china-2020-10-13',\n",
       "       'https://www.nasdaq.com/articles/audi-to-launch-new-electric-vehicle-venture-with-chinas-faw-2020-10-13',\n",
       "       'https://www.nasdaq.com/articles/heres-how-to-play-apple-stock-following-tuesdays-iphone-12-event-2020-10-13',\n",
       "       'https://www.nasdaq.com/articles/how-tesla-can-get-to-a-%241-trillion-valuation-2020-10-13',\n",
       "       'https://www.nasdaq.com/articles/china-auto-sales-jump-13-in-golden-september-as-shoppers-return-to-showrooms-2020-10-13',\n",
       "       'https://www.nasdaq.com/articles/why-this-stock-market-melt-up-is-so-hard-to-handle-2020-10-12',\n",
       "       'https://www.nasdaq.com/articles/buy-fisker-stock-to-own-the-next-tesla-2020-10-12',\n",
       "       'https://www.nasdaq.com/articles/heres-why-wimi-hologram-cloud-stock-came-roaring-back-to-life-on-monday-2020-10-12',\n",
       "       'https://www.nasdaq.com/articles/despite-the-pullback-tread-carefully-with-kensington-capital-2020-10-12',\n",
       "       'https://www.nasdaq.com/articles/robinhood-and-momentum-investing%3A-the-new-day-trading-2020-10-12',\n",
       "       'https://www.nasdaq.com/articles/stock-alert%3A-piedmont-lithium-shares-down-8-2020-10-12',\n",
       "       'https://www.nasdaq.com/articles/3-stocks-robinhood-investors-arent-in-love-with-anymore-2020-10-12',\n",
       "       'https://www.nasdaq.com/articles/diamondpeak-stock-roiled-as-wall-street-sorts-out-long-term-ev-impact-2020-10-12',\n",
       "       'https://www.nasdaq.com/articles/tesla-battery-supplier-lg-chem-forecasts-record-q3-profit-2020-10-11',\n",
       "       'https://www.nasdaq.com/articles/these-3-stocks-would-be-huge-winners-from-a-payroll-tax-cut-2020-10-10',\n",
       "       'https://www.nasdaq.com/articles/ignore-uber-these-3-stocks-are-better-buys-2020-10-10',\n",
       "       'https://www.nasdaq.com/articles/7-growth-hacks-for-a-bulletproof-electric-car-portfolio-2020-10-09',\n",
       "       'https://www.nasdaq.com/articles/nissan-will-provide-automated-driving-technology-in-all-future-models-2020-10-09',\n",
       "       'https://www.nasdaq.com/articles/why-niu-technologies-shares-were-gaining-today-2020-10-09',\n",
       "       'https://www.nasdaq.com/articles/sailing-sailgp-looks-beyond-wind-power-to-hit-climate-positive-goal-2020-10-09',\n",
       "       'https://www.nasdaq.com/articles/im-sure-warren-buffett-would-love-to-see-apple-trading-below-%24100-2020-10-09',\n",
       "       'https://www.nasdaq.com/articles/1-electric-van-stock-with-a-bus-sized-opportunity-2020-10-09',\n",
       "       'https://www.nasdaq.com/articles/this-analyst-thinks-tesla-stock-is-headed-to-%24578-2020-10-09'],\n",
       "      dtype='<U123')"
      ]
     },
     "execution_count": 15,
     "metadata": {},
     "output_type": "execute_result"
    }
   ],
   "source": [
    "xNews"
   ]
  },
  {
   "cell_type": "code",
   "execution_count": 174,
   "metadata": {},
   "outputs": [],
   "source": [
    "finish=\"\\n\"+\" *********************************** İşlemler tamamlandı ***********************************************\"\n",
    "l.log(finish)"
   ]
  },
  {
   "cell_type": "code",
   "execution_count": null,
   "metadata": {},
   "outputs": [],
   "source": []
  }
 ],
 "metadata": {
  "kernelspec": {
   "display_name": "Python 3",
   "language": "python",
   "name": "python3"
  },
  "language_info": {
   "codemirror_mode": {
    "name": "ipython",
    "version": 3
   },
   "file_extension": ".py",
   "mimetype": "text/x-python",
   "name": "python",
   "nbconvert_exporter": "python",
   "pygments_lexer": "ipython3",
   "version": "3.7.4"
  }
 },
 "nbformat": 4,
 "nbformat_minor": 4
}
