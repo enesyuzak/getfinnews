{
 "cells": [
  {
   "cell_type": "code",
   "execution_count": 1,
   "metadata": {},
   "outputs": [],
   "source": [
    "#import selenium libraries\n",
    "from selenium import webdriver\n",
    "from selenium.webdriver.common.keys import Keys\n",
    "from selenium.webdriver.chrome.options import Options\n",
    "from selenium.webdriver.common.action_chains import ActionChains\n",
    "from selenium.common.exceptions import ElementClickInterceptedException\n",
    "from selenium.webdriver.support.ui import WebDriverWait\n",
    "from selenium.webdriver.support import expected_conditions\n",
    "from selenium.webdriver.common.by import By\n",
    "\n",
    "#import web scrapy librarires\n",
    "from urllib.request import urlopen\n",
    "from bs4 import BeautifulSoup\n",
    "from lxml import html\n",
    "import requests\n",
    "\n",
    "import pandas as pd\n",
    "import numpy as np\n",
    "import math\n",
    "import random\n",
    "import time\n",
    "import datetime\n",
    "import io\n",
    "from task import logs as l"
   ]
  },
  {
   "cell_type": "code",
   "execution_count": 2,
   "metadata": {},
   "outputs": [],
   "source": [
    "#headers\n",
    "headers = {'User-Agent': 'Mozilla/5.0 (Windows NT 10.0; Win64; x64) AppleWebKit/537.36 (KHTML, like Gecko) Chrome/85.0.4183.121 Safari/537.36'}"
   ]
  },
  {
   "cell_type": "code",
   "execution_count": 3,
   "metadata": {},
   "outputs": [],
   "source": [
    "file1 = open(r'C:\\Users\\enesy\\OneDrive\\Okul\\Tez\\Codes\\tez\\getfinnews\\links.txt', 'r')\n",
    "Lines=file1.readlines()\n",
    "newsLinks=[]\n",
    "for l in Lines:\n",
    "    newsLinks.append(l)"
   ]
  },
  {
   "cell_type": "code",
   "execution_count": 4,
   "metadata": {},
   "outputs": [],
   "source": [
    "news=np.array(newsLinks)\n",
    "xNews=np.array(news).flatten()"
   ]
  },
  {
   "cell_type": "code",
   "execution_count": 5,
   "metadata": {},
   "outputs": [
    {
     "name": "stderr",
     "output_type": "stream",
     "text": [
      "C:\\Users\\enesy\\AppData\\Roaming\\Python\\Python37\\site-packages\\ipykernel_launcher.py:3: DeprecationWarning: use options instead of chrome_options\n",
      "  This is separate from the ipykernel package so we can avoid doing imports until\n"
     ]
    }
   ],
   "source": [
    "chrome_options=Options()\n",
    "chrome_options.add_argument('--no-sandbox')\n",
    "driver = webdriver.Chrome(r'C:\\Users\\enesy\\OneDrive\\Okul\\Tez\\Codes\\chromedriver', chrome_options=chrome_options)"
   ]
  },
  {
   "cell_type": "code",
   "execution_count": 6,
   "metadata": {},
   "outputs": [
    {
     "name": "stdout",
     "output_type": "stream",
     "text": [
      "links:  https://www.nasdaq.com/articles/why-this-stock-market-melt-up-is-so-hard-to-handle-2020-10-12\n",
      "\n",
      "p alındı\n",
      "links:  https://www.nasdaq.com/articles/heres-why-wimi-hologram-cloud-stock-came-roaring-back-to-life-on-monday-2020-10-12\n",
      "\n",
      "p alındı\n",
      "links:  https://www.nasdaq.com/articles/stock-alert%3A-piedmont-lithium-shares-down-8-2020-10-12\n",
      "\n",
      "p alındı\n",
      "links:  https://www.nasdaq.com/articles/3-stocks-robinhood-investors-arent-in-love-with-anymore-2020-10-12\n",
      "\n",
      "p alındı\n",
      "links:  https://www.nasdaq.com/articles/tesla-battery-supplier-lg-chem-forecasts-record-q3-profit-2020-10-11\n",
      "\n",
      "p alındı\n"
     ]
    }
   ],
   "source": [
    "text=[]\n",
    "dateTime=[]\n",
    "lnk=[]\n",
    "startDate=datetime.datetime.now()\n",
    "for links in xNews[0:5]:\n",
    "    try:\n",
    "        print(\"links: \",links)\n",
    "        driver.get(links)\n",
    "        time.sleep(random.randrange(0,10))\n",
    "        html1 = driver.page_source\n",
    "        soup = BeautifulSoup(html1, 'lxml')\n",
    "        div = soup.find('div', 'body__content')\n",
    "        p=div.find_all(\"p\")\n",
    "        print(\"p alındı\")\n",
    "        time1=soup.find(\"time\",class_=\"timestamp__date\")\n",
    "        tempStr=\"\"\n",
    "        for ps in p:\n",
    "            tempStr+=ps.text\n",
    "        text.append(tempStr)\n",
    "        dateTime.append(time1.text)\n",
    "        lnk.append(links)\n",
    "    except Exception as e:\n",
    "        l.WriteToFile(\"logLinks.txt\",e)\n",
    "        print(\"Error: \",e)\n",
    "        pass"
   ]
  },
  {
   "cell_type": "code",
   "execution_count": 13,
   "metadata": {},
   "outputs": [],
   "source": [
    "startDate=datetime.datetime.now()    \n",
    "endDate=datetime.datetime.now()\n",
    "minute=divmod((endDate-startDate).total_seconds(),60)[0]\n",
    "minute=math.floor(minute)\n",
    "second=divmod((endDate-startDate).total_seconds(),60)[1]\n",
    "st=str(minute)+\" dakika \"+str(second)+\"saniye sürmüştür\"\n",
    "sta=\"işlem bitiş zamanı: \"+str(startDate)\n",
    "fns=\"işlem bitiş zamanı: \"+str(endDate)\n",
    "elapsed=\"toplam işlem süresi: \"+st"
   ]
  },
  {
   "cell_type": "code",
   "execution_count": 20,
   "metadata": {},
   "outputs": [
    {
     "data": {
      "text/plain": [
       "str"
      ]
     },
     "execution_count": 20,
     "metadata": {},
     "output_type": "execute_result"
    }
   ],
   "source": [
    "type(sta)"
   ]
  },
  {
   "cell_type": "code",
   "execution_count": 17,
   "metadata": {},
   "outputs": [
    {
     "ename": "AttributeError",
     "evalue": "'str' object has no attribute 'WriteToFile'",
     "output_type": "error",
     "traceback": [
      "\u001b[1;31m---------------------------------------------------------------------------\u001b[0m",
      "\u001b[1;31mAttributeError\u001b[0m                            Traceback (most recent call last)",
      "\u001b[1;32m<ipython-input-17-392c002a425f>\u001b[0m in \u001b[0;36m<module>\u001b[1;34m\u001b[0m\n\u001b[1;32m----> 1\u001b[1;33m \u001b[0ml\u001b[0m\u001b[1;33m.\u001b[0m\u001b[0mWriteToFile\u001b[0m\u001b[1;33m(\u001b[0m\u001b[1;34m\"logLinks.txt\"\u001b[0m\u001b[1;33m,\u001b[0m\u001b[0msta\u001b[0m\u001b[1;33m)\u001b[0m\u001b[1;33m\u001b[0m\u001b[1;33m\u001b[0m\u001b[0m\n\u001b[0m\u001b[0;32m      2\u001b[0m \u001b[0ml\u001b[0m\u001b[1;33m.\u001b[0m\u001b[0mWriteToFile\u001b[0m\u001b[1;33m(\u001b[0m\u001b[1;34m\"logLinks.txt\"\u001b[0m\u001b[1;33m,\u001b[0m\u001b[0mfns\u001b[0m\u001b[1;33m)\u001b[0m\u001b[1;33m\u001b[0m\u001b[1;33m\u001b[0m\u001b[0m\n\u001b[0;32m      3\u001b[0m \u001b[0ml\u001b[0m\u001b[1;33m.\u001b[0m\u001b[0mWriteToFile\u001b[0m\u001b[1;33m(\u001b[0m\u001b[1;34m\"logLinks.txt\"\u001b[0m\u001b[1;33m,\u001b[0m\u001b[0mst\u001b[0m\u001b[1;33m)\u001b[0m\u001b[1;33m\u001b[0m\u001b[1;33m\u001b[0m\u001b[0m\n",
      "\u001b[1;31mAttributeError\u001b[0m: 'str' object has no attribute 'WriteToFile'"
     ]
    }
   ],
   "source": [
    "l.WriteToFile(\"logLinks.txt\",sta)\n",
    "l.WriteToFile(\"logLinks.txt\",fns)\n",
    "l.WriteToFile(\"logLinks.txt\",st)"
   ]
  },
  {
   "cell_type": "code",
   "execution_count": null,
   "metadata": {},
   "outputs": [],
   "source": [
    "dfText=pd.DataFrame(text)\n",
    "dfDates=pd.DataFrame(dateTime)\n",
    "dfLinks=pd.DataFrame(lnk)\n",
    "df=pd.concat([dfDates,dfText,dfLinks],ignore_index=True,axis=1)\n",
    "df.columns=[\"Dates\",\"Text\",\"Link\"]\n",
    "df.to_csv(\"TeslaNews.csv\",encoding=\"utf-8\")"
   ]
  },
  {
   "cell_type": "code",
   "execution_count": null,
   "metadata": {},
   "outputs": [],
   "source": [
    "print(df.tail())"
   ]
  }
 ],
 "metadata": {
  "kernelspec": {
   "display_name": "Python 3",
   "language": "python",
   "name": "python3"
  },
  "language_info": {
   "codemirror_mode": {
    "name": "ipython",
    "version": 3
   },
   "file_extension": ".py",
   "mimetype": "text/x-python",
   "name": "python",
   "nbconvert_exporter": "python",
   "pygments_lexer": "ipython3",
   "version": "3.7.4"
  }
 },
 "nbformat": 4,
 "nbformat_minor": 4
}
