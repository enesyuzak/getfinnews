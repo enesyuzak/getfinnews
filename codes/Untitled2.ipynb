{
 "cells": [
  {
   "cell_type": "code",
   "execution_count": 26,
   "metadata": {},
   "outputs": [],
   "source": [
    "import pandas as pd\n",
    "from Tools import *"
   ]
  },
  {
   "cell_type": "code",
   "execution_count": 47,
   "metadata": {},
   "outputs": [],
   "source": [
    "dfDates=pd.read_csv(\"dfDates2.txt\",header=None)\n",
    "dfDates.columns=[\"bir\",\"iki\"]\n",
    "dfDates=dfDates[\"bir\"]+dfDates[\"iki\"]"
   ]
  },
  {
   "cell_type": "code",
   "execution_count": 39,
   "metadata": {},
   "outputs": [],
   "source": [
    "file1 = r'C:\\Users\\enesy\\OneDrive\\Okul\\Tez\\Codes\\tez\\getfinnews\\dfText3.txt'\n",
    "\n",
    "Lines=File.ReadFromFile(file1)\n",
    "Lines2=Lines[0].split(\"╝\")\n"
   ]
  },
  {
   "cell_type": "code",
   "execution_count": 40,
   "metadata": {},
   "outputs": [],
   "source": [
    "str1=\"\"\n",
    "c=0\n",
    "for i in Lines:\n",
    "    str1+=i\n",
    "str2=str1.split(\"╝\")"
   ]
  },
  {
   "cell_type": "code",
   "execution_count": 41,
   "metadata": {},
   "outputs": [],
   "source": [
    "dfText=pd.DataFrame(str2)"
   ]
  },
  {
   "cell_type": "code",
   "execution_count": 42,
   "metadata": {},
   "outputs": [],
   "source": [
    "dfLinks=pd.read_csv(\"dfLink3.txt\",header=None)"
   ]
  },
  {
   "cell_type": "code",
   "execution_count": 43,
   "metadata": {},
   "outputs": [
    {
     "data": {
      "text/html": [
       "<div>\n",
       "<style scoped>\n",
       "    .dataframe tbody tr th:only-of-type {\n",
       "        vertical-align: middle;\n",
       "    }\n",
       "\n",
       "    .dataframe tbody tr th {\n",
       "        vertical-align: top;\n",
       "    }\n",
       "\n",
       "    .dataframe thead th {\n",
       "        text-align: right;\n",
       "    }\n",
       "</style>\n",
       "<table border=\"1\" class=\"dataframe\">\n",
       "  <thead>\n",
       "    <tr style=\"text-align: right;\">\n",
       "      <th></th>\n",
       "      <th>0</th>\n",
       "    </tr>\n",
       "  </thead>\n",
       "  <tbody>\n",
       "    <tr>\n",
       "      <th>9596</th>\n",
       "      <td>Ford ( F ) reported an all time record pre-tax...</td>\n",
       "    </tr>\n",
       "    <tr>\n",
       "      <th>9597</th>\n",
       "      <td>InvestorPlaceInvestorPlace - Stock Market New...</td>\n",
       "    </tr>\n",
       "    <tr>\n",
       "      <th>9598</th>\n",
       "      <td>InvestorPlaceInvestorPlace - Stock Market New...</td>\n",
       "    </tr>\n",
       "    <tr>\n",
       "      <th>9599</th>\n",
       "      <td>Energy storage has finally captured the imagin...</td>\n",
       "    </tr>\n",
       "    <tr>\n",
       "      <th>9600</th>\n",
       "      <td></td>\n",
       "    </tr>\n",
       "  </tbody>\n",
       "</table>\n",
       "</div>"
      ],
      "text/plain": [
       "                                                      0\n",
       "9596  Ford ( F ) reported an all time record pre-tax...\n",
       "9597   InvestorPlaceInvestorPlace - Stock Market New...\n",
       "9598   InvestorPlaceInvestorPlace - Stock Market New...\n",
       "9599  Energy storage has finally captured the imagin...\n",
       "9600                                                   "
      ]
     },
     "execution_count": 43,
     "metadata": {},
     "output_type": "execute_result"
    }
   ],
   "source": [
    "dfText.tail()"
   ]
  },
  {
   "cell_type": "code",
   "execution_count": 44,
   "metadata": {},
   "outputs": [
    {
     "data": {
      "text/html": [
       "<div>\n",
       "<style scoped>\n",
       "    .dataframe tbody tr th:only-of-type {\n",
       "        vertical-align: middle;\n",
       "    }\n",
       "\n",
       "    .dataframe tbody tr th {\n",
       "        vertical-align: top;\n",
       "    }\n",
       "\n",
       "    .dataframe thead th {\n",
       "        text-align: right;\n",
       "    }\n",
       "</style>\n",
       "<table border=\"1\" class=\"dataframe\">\n",
       "  <thead>\n",
       "    <tr style=\"text-align: right;\">\n",
       "      <th></th>\n",
       "      <th>0</th>\n",
       "    </tr>\n",
       "  </thead>\n",
       "  <tbody>\n",
       "    <tr>\n",
       "      <th>9595</th>\n",
       "      <td>Tesla CEO Elon Musk introduces the Model X. So...</td>\n",
       "    </tr>\n",
       "    <tr>\n",
       "      <th>9596</th>\n",
       "      <td>Ford ( F ) reported an all time record pre-tax...</td>\n",
       "    </tr>\n",
       "    <tr>\n",
       "      <th>9597</th>\n",
       "      <td>InvestorPlaceInvestorPlace - Stock Market New...</td>\n",
       "    </tr>\n",
       "    <tr>\n",
       "      <th>9598</th>\n",
       "      <td>InvestorPlaceInvestorPlace - Stock Market New...</td>\n",
       "    </tr>\n",
       "    <tr>\n",
       "      <th>9599</th>\n",
       "      <td>Energy storage has finally captured the imagin...</td>\n",
       "    </tr>\n",
       "  </tbody>\n",
       "</table>\n",
       "</div>"
      ],
      "text/plain": [
       "                                                      0\n",
       "9595  Tesla CEO Elon Musk introduces the Model X. So...\n",
       "9596  Ford ( F ) reported an all time record pre-tax...\n",
       "9597   InvestorPlaceInvestorPlace - Stock Market New...\n",
       "9598   InvestorPlaceInvestorPlace - Stock Market New...\n",
       "9599  Energy storage has finally captured the imagin..."
      ]
     },
     "execution_count": 44,
     "metadata": {},
     "output_type": "execute_result"
    }
   ],
   "source": [
    "dfText.drop(dfText.tail(1).index,inplace=True)\n",
    "dfText.tail()"
   ]
  },
  {
   "cell_type": "code",
   "execution_count": 45,
   "metadata": {},
   "outputs": [
    {
     "data": {
      "text/html": [
       "<div>\n",
       "<style scoped>\n",
       "    .dataframe tbody tr th:only-of-type {\n",
       "        vertical-align: middle;\n",
       "    }\n",
       "\n",
       "    .dataframe tbody tr th {\n",
       "        vertical-align: top;\n",
       "    }\n",
       "\n",
       "    .dataframe thead th {\n",
       "        text-align: right;\n",
       "    }\n",
       "</style>\n",
       "<table border=\"1\" class=\"dataframe\">\n",
       "  <thead>\n",
       "    <tr style=\"text-align: right;\">\n",
       "      <th></th>\n",
       "      <th>bir</th>\n",
       "      <th>iki</th>\n",
       "    </tr>\n",
       "  </thead>\n",
       "  <tbody>\n",
       "    <tr>\n",
       "      <th>9595</th>\n",
       "      <td>Apr 29</td>\n",
       "      <td>2016 3:43AM EDT</td>\n",
       "    </tr>\n",
       "    <tr>\n",
       "      <th>9596</th>\n",
       "      <td>Apr 29</td>\n",
       "      <td>2016 2:22AM EDT</td>\n",
       "    </tr>\n",
       "    <tr>\n",
       "      <th>9597</th>\n",
       "      <td>Apr 28</td>\n",
       "      <td>2016 11:44AM EDT</td>\n",
       "    </tr>\n",
       "    <tr>\n",
       "      <th>9598</th>\n",
       "      <td>Apr 28</td>\n",
       "      <td>2016 10:23AM EDT</td>\n",
       "    </tr>\n",
       "    <tr>\n",
       "      <th>9599</th>\n",
       "      <td>Apr 28</td>\n",
       "      <td>2016 10:00AM EDT</td>\n",
       "    </tr>\n",
       "  </tbody>\n",
       "</table>\n",
       "</div>"
      ],
      "text/plain": [
       "         bir                iki\n",
       "9595  Apr 29    2016 3:43AM EDT\n",
       "9596  Apr 29    2016 2:22AM EDT\n",
       "9597  Apr 28   2016 11:44AM EDT\n",
       "9598  Apr 28   2016 10:23AM EDT\n",
       "9599  Apr 28   2016 10:00AM EDT"
      ]
     },
     "execution_count": 45,
     "metadata": {},
     "output_type": "execute_result"
    }
   ],
   "source": [
    "dfDates.tail()"
   ]
  },
  {
   "cell_type": "code",
   "execution_count": 48,
   "metadata": {},
   "outputs": [],
   "source": [
    "df=pd.concat([dfDates,dfText,dfLinks],ignore_index=True,axis=1)\n",
    "df.columns=[\"Dates\",\"Text\",\"Link\"]\n",
    "df.to_csv(\"TeslaNews.csv\",encoding=\"utf-8\")"
   ]
  },
  {
   "cell_type": "code",
   "execution_count": 50,
   "metadata": {},
   "outputs": [
    {
     "data": {
      "text/html": [
       "<div>\n",
       "<style scoped>\n",
       "    .dataframe tbody tr th:only-of-type {\n",
       "        vertical-align: middle;\n",
       "    }\n",
       "\n",
       "    .dataframe tbody tr th {\n",
       "        vertical-align: top;\n",
       "    }\n",
       "\n",
       "    .dataframe thead th {\n",
       "        text-align: right;\n",
       "    }\n",
       "</style>\n",
       "<table border=\"1\" class=\"dataframe\">\n",
       "  <thead>\n",
       "    <tr style=\"text-align: right;\">\n",
       "      <th></th>\n",
       "      <th>Dates</th>\n",
       "      <th>Text</th>\n",
       "      <th>Link</th>\n",
       "    </tr>\n",
       "  </thead>\n",
       "  <tbody>\n",
       "    <tr>\n",
       "      <th>9595</th>\n",
       "      <td>Apr 29 2016 3:43AM EDT</td>\n",
       "      <td>Tesla CEO Elon Musk introduces the Model X. So...</td>\n",
       "      <td>https://www.nasdaq.com/articles/mark-zuckerber...</td>\n",
       "    </tr>\n",
       "    <tr>\n",
       "      <th>9596</th>\n",
       "      <td>Apr 29 2016 2:22AM EDT</td>\n",
       "      <td>Ford ( F ) reported an all time record pre-tax...</td>\n",
       "      <td>https://www.nasdaq.com/articles/ford-posts-rec...</td>\n",
       "    </tr>\n",
       "    <tr>\n",
       "      <th>9597</th>\n",
       "      <td>Apr 28 2016 11:44AM EDT</td>\n",
       "      <td>InvestorPlaceInvestorPlace - Stock Market New...</td>\n",
       "      <td>https://www.nasdaq.com/articles/alphabet-inc%3...</td>\n",
       "    </tr>\n",
       "    <tr>\n",
       "      <th>9598</th>\n",
       "      <td>Apr 28 2016 10:23AM EDT</td>\n",
       "      <td>InvestorPlaceInvestorPlace - Stock Market New...</td>\n",
       "      <td>https://www.nasdaq.com/articles/apple-inc.-aap...</td>\n",
       "    </tr>\n",
       "    <tr>\n",
       "      <th>9599</th>\n",
       "      <td>Apr 28 2016 10:00AM EDT</td>\n",
       "      <td>Energy storage has finally captured the imagin...</td>\n",
       "      <td>https://www.nasdaq.com/articles/lockheed-marti...</td>\n",
       "    </tr>\n",
       "  </tbody>\n",
       "</table>\n",
       "</div>"
      ],
      "text/plain": [
       "                        Dates  \\\n",
       "9595   Apr 29 2016 3:43AM EDT   \n",
       "9596   Apr 29 2016 2:22AM EDT   \n",
       "9597  Apr 28 2016 11:44AM EDT   \n",
       "9598  Apr 28 2016 10:23AM EDT   \n",
       "9599  Apr 28 2016 10:00AM EDT   \n",
       "\n",
       "                                                   Text  \\\n",
       "9595  Tesla CEO Elon Musk introduces the Model X. So...   \n",
       "9596  Ford ( F ) reported an all time record pre-tax...   \n",
       "9597   InvestorPlaceInvestorPlace - Stock Market New...   \n",
       "9598   InvestorPlaceInvestorPlace - Stock Market New...   \n",
       "9599  Energy storage has finally captured the imagin...   \n",
       "\n",
       "                                                   Link  \n",
       "9595  https://www.nasdaq.com/articles/mark-zuckerber...  \n",
       "9596  https://www.nasdaq.com/articles/ford-posts-rec...  \n",
       "9597  https://www.nasdaq.com/articles/alphabet-inc%3...  \n",
       "9598  https://www.nasdaq.com/articles/apple-inc.-aap...  \n",
       "9599  https://www.nasdaq.com/articles/lockheed-marti...  "
      ]
     },
     "execution_count": 50,
     "metadata": {},
     "output_type": "execute_result"
    }
   ],
   "source": [
    "df.tail()"
   ]
  },
  {
   "cell_type": "code",
   "execution_count": 51,
   "metadata": {},
   "outputs": [
    {
     "ename": "NameError",
     "evalue": "name 'gensim' is not defined",
     "output_type": "error",
     "traceback": [
      "\u001b[1;31m---------------------------------------------------------------------------\u001b[0m",
      "\u001b[1;31mNameError\u001b[0m                                 Traceback (most recent call last)",
      "\u001b[1;32m<ipython-input-51-a01f4f9315fa>\u001b[0m in \u001b[0;36m<module>\u001b[1;34m\u001b[0m\n\u001b[0;32m      1\u001b[0m \u001b[1;32mfrom\u001b[0m \u001b[0mgensim\u001b[0m\u001b[1;33m.\u001b[0m\u001b[0mmodels\u001b[0m \u001b[1;32mimport\u001b[0m \u001b[0mKeyedVectors\u001b[0m\u001b[1;33m\u001b[0m\u001b[1;33m\u001b[0m\u001b[0m\n\u001b[1;32m----> 2\u001b[1;33m \u001b[0mmodel\u001b[0m \u001b[1;33m=\u001b[0m \u001b[0mgensim\u001b[0m\u001b[1;33m.\u001b[0m\u001b[0mmodels\u001b[0m\u001b[1;33m.\u001b[0m\u001b[0mKeyedVectors\u001b[0m\u001b[1;33m.\u001b[0m\u001b[0mload_word2vec_format\u001b[0m\u001b[1;33m(\u001b[0m\u001b[1;34m'GoogleNews-vectors-negative300.bin'\u001b[0m\u001b[1;33m,\u001b[0m \u001b[0mbinary\u001b[0m\u001b[1;33m=\u001b[0m\u001b[1;32mTrue\u001b[0m\u001b[1;33m)\u001b[0m\u001b[1;33m\u001b[0m\u001b[1;33m\u001b[0m\u001b[0m\n\u001b[0m",
      "\u001b[1;31mNameError\u001b[0m: name 'gensim' is not defined"
     ]
    }
   ],
   "source": [
    "from gensim.models import KeyedVectors\n",
    "model = gensim.models.KeyedVectors.load_word2vec_format('GoogleNews-vectors-negative300.bin', binary=True)"
   ]
  },
  {
   "cell_type": "code",
   "execution_count": null,
   "metadata": {},
   "outputs": [],
   "source": []
  }
 ],
 "metadata": {
  "kernelspec": {
   "display_name": "Python 3",
   "language": "python",
   "name": "python3"
  },
  "language_info": {
   "codemirror_mode": {
    "name": "ipython",
    "version": 3
   },
   "file_extension": ".py",
   "mimetype": "text/x-python",
   "name": "python",
   "nbconvert_exporter": "python",
   "pygments_lexer": "ipython3",
   "version": "3.7.4"
  }
 },
 "nbformat": 4,
 "nbformat_minor": 4
}
